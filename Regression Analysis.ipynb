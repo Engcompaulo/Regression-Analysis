{
 "cells": [
  {
   "cell_type": "markdown",
   "metadata": {},
   "source": [
    "# Regression Methods"
   ]
  },
  {
   "cell_type": "markdown",
   "metadata": {},
   "source": [
    "In statistics, linear regression is a linear approach to modelling the relationship between a scalar response (or dependent variable) and one or more explanatory variables (or independent variables). Particularly, the case for just one explanatory variable is called simple linear regression. \n",
    "\n",
    "In this notebook you'll find an implementation of a regression models, such as Simple Linear Regression, Multiple Linear Regression and Logistic Regression.  Along our journey, we'll implement some code, explain and clarify some concepts about linear regression models.\n",
    "\n",
    "For further studies on Linear Regression, see this [link](https://en.wikipedia.org/wiki/Linear_regression).\n",
    "I also recommend for those who want to dig deeper in linear classifiers this [course](https://www.datacamp.com/courses/linear-classifiers-in-python) from the datacamp website."
   ]
  },
  {
   "cell_type": "markdown",
   "metadata": {},
   "source": [
    "## 1. Simple Linear Regression"
   ]
  },
  {
   "cell_type": "markdown",
   "metadata": {},
   "source": [
    "The dataset used in this section is in a .csv file with GPA and SAT scores from some fictitious US students. We'll analyze this dataset and make a linear regression on the data in order to get some information about the performance of college students and how it is correlated with his/her SAT score."
   ]
  },
  {
   "cell_type": "markdown",
   "metadata": {},
   "source": [
    "### Import the relevant libraries"
   ]
  },
  {
   "cell_type": "code",
   "execution_count": 1,
   "metadata": {},
   "outputs": [],
   "source": [
    "import numpy as np\n",
    "import pandas as pd\n",
    "import statsmodels.api as sm\n",
    "import matplotlib.pyplot as plt\n",
    "import seaborn as sns\n",
    "sns.set()"
   ]
  },
  {
   "cell_type": "markdown",
   "metadata": {},
   "source": [
    "### Load the data"
   ]
  },
  {
   "cell_type": "code",
   "execution_count": 2,
   "metadata": {},
   "outputs": [],
   "source": [
    "path_name = r'C:\\Users\\alexa\\Documents\\Data Science Course - Bootcamp\\Regression Analysis\\datasets\\1. Simple linear regression.csv'\n",
    "data = pd.read_csv(path_name)"
   ]
  },
  {
   "cell_type": "code",
   "execution_count": 3,
   "metadata": {},
   "outputs": [
    {
     "data": {
      "text/html": [
       "<div>\n",
       "<style scoped>\n",
       "    .dataframe tbody tr th:only-of-type {\n",
       "        vertical-align: middle;\n",
       "    }\n",
       "\n",
       "    .dataframe tbody tr th {\n",
       "        vertical-align: top;\n",
       "    }\n",
       "\n",
       "    .dataframe thead th {\n",
       "        text-align: right;\n",
       "    }\n",
       "</style>\n",
       "<table border=\"1\" class=\"dataframe\">\n",
       "  <thead>\n",
       "    <tr style=\"text-align: right;\">\n",
       "      <th></th>\n",
       "      <th>SAT</th>\n",
       "      <th>GPA</th>\n",
       "    </tr>\n",
       "  </thead>\n",
       "  <tbody>\n",
       "    <tr>\n",
       "      <th>0</th>\n",
       "      <td>1714</td>\n",
       "      <td>2.40</td>\n",
       "    </tr>\n",
       "    <tr>\n",
       "      <th>1</th>\n",
       "      <td>1664</td>\n",
       "      <td>2.52</td>\n",
       "    </tr>\n",
       "    <tr>\n",
       "      <th>2</th>\n",
       "      <td>1760</td>\n",
       "      <td>2.54</td>\n",
       "    </tr>\n",
       "    <tr>\n",
       "      <th>3</th>\n",
       "      <td>1685</td>\n",
       "      <td>2.74</td>\n",
       "    </tr>\n",
       "    <tr>\n",
       "      <th>4</th>\n",
       "      <td>1693</td>\n",
       "      <td>2.83</td>\n",
       "    </tr>\n",
       "  </tbody>\n",
       "</table>\n",
       "</div>"
      ],
      "text/plain": [
       "    SAT   GPA\n",
       "0  1714  2.40\n",
       "1  1664  2.52\n",
       "2  1760  2.54\n",
       "3  1685  2.74\n",
       "4  1693  2.83"
      ]
     },
     "execution_count": 3,
     "metadata": {},
     "output_type": "execute_result"
    }
   ],
   "source": [
    "# Visualize your data\n",
    "data.head()"
   ]
  },
  {
   "cell_type": "code",
   "execution_count": 4,
   "metadata": {},
   "outputs": [
    {
     "data": {
      "text/html": [
       "<div>\n",
       "<style scoped>\n",
       "    .dataframe tbody tr th:only-of-type {\n",
       "        vertical-align: middle;\n",
       "    }\n",
       "\n",
       "    .dataframe tbody tr th {\n",
       "        vertical-align: top;\n",
       "    }\n",
       "\n",
       "    .dataframe thead th {\n",
       "        text-align: right;\n",
       "    }\n",
       "</style>\n",
       "<table border=\"1\" class=\"dataframe\">\n",
       "  <thead>\n",
       "    <tr style=\"text-align: right;\">\n",
       "      <th></th>\n",
       "      <th>SAT</th>\n",
       "      <th>GPA</th>\n",
       "    </tr>\n",
       "  </thead>\n",
       "  <tbody>\n",
       "    <tr>\n",
       "      <th>count</th>\n",
       "      <td>84.000000</td>\n",
       "      <td>84.000000</td>\n",
       "    </tr>\n",
       "    <tr>\n",
       "      <th>mean</th>\n",
       "      <td>1845.273810</td>\n",
       "      <td>3.330238</td>\n",
       "    </tr>\n",
       "    <tr>\n",
       "      <th>std</th>\n",
       "      <td>104.530661</td>\n",
       "      <td>0.271617</td>\n",
       "    </tr>\n",
       "    <tr>\n",
       "      <th>min</th>\n",
       "      <td>1634.000000</td>\n",
       "      <td>2.400000</td>\n",
       "    </tr>\n",
       "    <tr>\n",
       "      <th>25%</th>\n",
       "      <td>1772.000000</td>\n",
       "      <td>3.190000</td>\n",
       "    </tr>\n",
       "    <tr>\n",
       "      <th>50%</th>\n",
       "      <td>1846.000000</td>\n",
       "      <td>3.380000</td>\n",
       "    </tr>\n",
       "    <tr>\n",
       "      <th>75%</th>\n",
       "      <td>1934.000000</td>\n",
       "      <td>3.502500</td>\n",
       "    </tr>\n",
       "    <tr>\n",
       "      <th>max</th>\n",
       "      <td>2050.000000</td>\n",
       "      <td>3.810000</td>\n",
       "    </tr>\n",
       "  </tbody>\n",
       "</table>\n",
       "</div>"
      ],
      "text/plain": [
       "               SAT        GPA\n",
       "count    84.000000  84.000000\n",
       "mean   1845.273810   3.330238\n",
       "std     104.530661   0.271617\n",
       "min    1634.000000   2.400000\n",
       "25%    1772.000000   3.190000\n",
       "50%    1846.000000   3.380000\n",
       "75%    1934.000000   3.502500\n",
       "max    2050.000000   3.810000"
      ]
     },
     "execution_count": 4,
     "metadata": {},
     "output_type": "execute_result"
    }
   ],
   "source": [
    "# Visualize some statistics about your data\n",
    "data.describe()"
   ]
  },
  {
   "cell_type": "markdown",
   "metadata": {},
   "source": [
    "## 1.1 Create your first regression"
   ]
  },
  {
   "cell_type": "markdown",
   "metadata": {},
   "source": [
    "### Define the dependent and the independent variable"
   ]
  },
  {
   "cell_type": "markdown",
   "metadata": {},
   "source": [
    "As we are trying to figure out how much the SAT score can predict a college student performance only by taking their GPA score. It is clear that the dependent variable, $y$, is the GPA scores and the independent variable, $x_1$, is the dependent variable. So, we split our dataset into these two classes."
   ]
  },
  {
   "cell_type": "code",
   "execution_count": 5,
   "metadata": {},
   "outputs": [],
   "source": [
    "y = data['GPA']\n",
    "x1 = data['SAT']"
   ]
  },
  {
   "cell_type": "markdown",
   "metadata": {},
   "source": [
    "### Explore the data"
   ]
  },
  {
   "cell_type": "markdown",
   "metadata": {},
   "source": [
    "From the plot below, we can clearly see that there is a correlation (not necessarily causation) between the SAT score and the GPA score."
   ]
  },
  {
   "cell_type": "code",
   "execution_count": 6,
   "metadata": {},
   "outputs": [
    {
     "data": {
      "image/png": "[encoded data removed]",
      "text/plain": [
       "<Figure size 432x288 with 1 Axes>"
      ]
     },
     "metadata": {
      "needs_background": "light"
     },
     "output_type": "display_data"
    }
   ],
   "source": [
    "plt.scatter(x1,y)\n",
    "plt.xlabel('SAT',fontsize=20)\n",
    "plt.ylabel('GPA',fontsize=20)\n",
    "plt.show()"
   ]
  },
  {
   "cell_type": "markdown",
   "metadata": {},
   "source": [
    "### Regression itself"
   ]
  },
  {
   "cell_type": "markdown",
   "metadata": {},
   "source": [
    "For computational reasons, we must add a constant columns of 1's to the independent variable set so that our equation for regression is given by \n",
    "\n",
    "$$\\hat{y} = b_0 \\times 1 + b_1 \\times x_1$$\n",
    "\n",
    "then, we are free to apply the Ordinary Least Square method to our data and finally fit our model.\n",
    "\n",
    "Lastly, it is a good practice to summarize the results in order to get some insights about the model like the relevance of the features and how good our model fits the data."
   ]
  },
  {
   "cell_type": "code",
   "execution_count": 7,
   "metadata": {},
   "outputs": [],
   "source": [
    "x = sm.add_constant(x1)"
   ]
  },
  {
   "cell_type": "code",
   "execution_count": 8,
   "metadata": {},
   "outputs": [
    {
     "data": {
      "text/html": [
       "<table class=\"simpletable\">\n",
       "<caption>OLS Regression Results</caption>\n",
       "<tr>\n",
       "  <th>Dep. Variable:</th>           <td>GPA</td>       <th>  R-squared:         </th> <td>   0.406</td>\n",
       "</tr>\n",
       "<tr>\n",
       "  <th>Model:</th>                   <td>OLS</td>       <th>  Adj. R-squared:    </th> <td>   0.399</td>\n",
       "</tr>\n",
       "<tr>\n",
       "  <th>Method:</th>             <td>Least Squares</td>  <th>  F-statistic:       </th> <td>   56.05</td>\n",
       "</tr>\n",
       "<tr>\n",
       "  <th>Date:</th>             <td>Tue, 12 Feb 2019</td> <th>  Prob (F-statistic):</th> <td>7.20e-11</td>\n",
       "</tr>\n",
       "<tr>\n",
       "  <th>Time:</th>                 <td>14:37:58</td>     <th>  Log-Likelihood:    </th> <td>  12.672</td>\n",
       "</tr>\n",
       "<tr>\n",
       "  <th>No. Observations:</th>      <td>    84</td>      <th>  AIC:               </th> <td>  -21.34</td>\n",
       "</tr>\n",
       "<tr>\n",
       "  <th>Df Residuals:</th>          <td>    82</td>      <th>  BIC:               </th> <td>  -16.48</td>\n",
       "</tr>\n",
       "<tr>\n",
       "  <th>Df Model:</th>              <td>     1</td>      <th>                     </th>     <td> </td>   \n",
       "</tr>\n",
       "<tr>\n",
       "  <th>Covariance Type:</th>      <td>nonrobust</td>    <th>                     </th>     <td> </td>   \n",
       "</tr>\n",
       "</table>\n",
       "<table class=\"simpletable\">\n",
       "<tr>\n",
       "    <td></td>       <th>coef</th>     <th>std err</th>      <th>t</th>      <th>P>|t|</th>  <th>[0.025</th>    <th>0.975]</th>  \n",
       "</tr>\n",
       "<tr>\n",
       "  <th>const</th> <td>    0.2750</td> <td>    0.409</td> <td>    0.673</td> <td> 0.503</td> <td>   -0.538</td> <td>    1.088</td>\n",
       "</tr>\n",
       "<tr>\n",
       "  <th>SAT</th>   <td>    0.0017</td> <td>    0.000</td> <td>    7.487</td> <td> 0.000</td> <td>    0.001</td> <td>    0.002</td>\n",
       "</tr>\n",
       "</table>\n",
       "<table class=\"simpletable\">\n",
       "<tr>\n",
       "  <th>Omnibus:</th>       <td>12.839</td> <th>  Durbin-Watson:     </th> <td>   0.950</td>\n",
       "</tr>\n",
       "<tr>\n",
       "  <th>Prob(Omnibus):</th> <td> 0.002</td> <th>  Jarque-Bera (JB):  </th> <td>  16.155</td>\n",
       "</tr>\n",
       "<tr>\n",
       "  <th>Skew:</th>          <td>-0.722</td> <th>  Prob(JB):          </th> <td>0.000310</td>\n",
       "</tr>\n",
       "<tr>\n",
       "  <th>Kurtosis:</th>      <td> 4.590</td> <th>  Cond. No.          </th> <td>3.29e+04</td>\n",
       "</tr>\n",
       "</table><br/><br/>Warnings:<br/>[1] Standard Errors assume that the covariance matrix of the errors is correctly specified.<br/>[2] The condition number is large, 3.29e+04. This might indicate that there are<br/>strong multicollinearity or other numerical problems."
      ],
      "text/plain": [
       "<class 'statsmodels.iolib.summary.Summary'>\n",
       "\"\"\"\n",
       "                            OLS Regression Results                            \n",
       "==============================================================================\n",
       "Dep. Variable:                    GPA   R-squared:                       0.406\n",
       "Model:                            OLS   Adj. R-squared:                  0.399\n",
       "Method:                 Least Squares   F-statistic:                     56.05\n",
       "Date:                Tue, 12 Feb 2019   Prob (F-statistic):           7.20e-11\n",
       "Time:                        14:37:58   Log-Likelihood:                 12.672\n",
       "No. Observations:                  84   AIC:                            -21.34\n",
       "Df Residuals:                      82   BIC:                            -16.48\n",
       "Df Model:                           1                                         \n",
       "Covariance Type:            nonrobust                                         \n",
       "==============================================================================\n",
       "                 coef    std err          t      P>|t|      [0.025      0.975]\n",
       "------------------------------------------------------------------------------\n",
       "const          0.2750      0.409      0.673      0.503      -0.538       1.088\n",
       "SAT            0.0017      0.000      7.487      0.000       0.001       0.002\n",
       "==============================================================================\n",
       "Omnibus:                       12.839   Durbin-Watson:                   0.950\n",
       "Prob(Omnibus):                  0.002   Jarque-Bera (JB):               16.155\n",
       "Skew:                          -0.722   Prob(JB):                     0.000310\n",
       "Kurtosis:                       4.590   Cond. No.                     3.29e+04\n",
       "==============================================================================\n",
       "\n",
       "Warnings:\n",
       "[1] Standard Errors assume that the covariance matrix of the errors is correctly specified.\n",
       "[2] The condition number is large, 3.29e+04. This might indicate that there are\n",
       "strong multicollinearity or other numerical problems.\n",
       "\"\"\""
      ]
     },
     "execution_count": 8,
     "metadata": {},
     "output_type": "execute_result"
    }
   ],
   "source": [
    "results = sm.OLS(y,x).fit()\n",
    "results.summary()"
   ]
  },
  {
   "cell_type": "markdown",
   "metadata": {},
   "source": [
    "Now that we have fitted the linear regression model to our data, it is time to visualize the outcomes. First of all, Let's have a look at the table below. Tipically, everytime we use statsmodels we'll have three main tables, namely:\n",
    "\n",
    "    1. Model Summary Table\n",
    "    2. Coefficients Table\n",
    "    3. Additional Tests Table\n",
    "\n",
    "The composition of all these tables is called regression table and it provides useful insights about our model. We will cover all of it along this notebook but for now, we'll focus only in some records of it.\n",
    "\n",
    "at the Coefficients Table, look at the _coef_'s column. it has 2 values, these are the coefficients $b_0$ (const) and $b_1$ (SAT) of the regression model, which means that the equation that fits better our data is given by\n",
    "\n",
    "$$ \\hat{y} = 0.2750 + 0.0017 x_1 $$\n",
    "\n",
    "Below, it is shown a plot of this equation over the data points. It is clearly a good prediction over the provided data, but we'll explore some statistical evidences of that soon enough."
   ]
  },
  {
   "cell_type": "code",
   "execution_count": 9,
   "metadata": {},
   "outputs": [
    {
     "data": {
      "image/png": "[encoded data removed]",
      "text/plain": [
       "<Figure size 432x288 with 1 Axes>"
      ]
     },
     "metadata": {
      "needs_background": "light"
     },
     "output_type": "display_data"
    }
   ],
   "source": [
    "plt.scatter(x1,y)\n",
    "yhat = 0.2750 + 0.0017*x1\n",
    "fig1 = plt.plot(x1,yhat, lw=4, c='orange', label = 'regression line')\n",
    "plt.savefig('linear.png')\n",
    "plt.xlabel('SAT', fontsize = 20)\n",
    "plt.ylabel('GPA', fontsize = 20)\n",
    "plt.show()"
   ]
  },
  {
   "cell_type": "markdown",
   "metadata": {},
   "source": [
    "## 2. What are the determinants of a good regression?"
   ]
  },
  {
   "cell_type": "markdown",
   "metadata": {},
   "source": [
    "It is time to explore the other records of the coefficients table. You can skip this section and go straight to the next section about Multiple Linear Regression, but is in this section that we build the foundations for a better understanding about the performance of a regression model.\n",
    "\n",
    "Let's use the results of our last model. The _std err_ column shows the accuracy of prediction for each variable, the lower the standard error, the better the estimate. In other words, **the standard error tells us how much our regression model is most likely to make a wrong prediction**. \n",
    "\n",
    "Below, it is possible to visualize two red lines encapsulating almost all data points inside the range:\n",
    "\n",
    "$$[b_0 - std\\_err + b_1 x_1, b_0 + std\\_err + b_1 x_1]$$"
   ]
  },
  {
   "cell_type": "code",
   "execution_count": 10,
   "metadata": {},
   "outputs": [
    {
     "data": {
      "image/png": "[encoded data removed]",
      "text/plain": [
       "<Figure size 432x288 with 1 Axes>"
      ]
     },
     "metadata": {
      "needs_background": "light"
     },
     "output_type": "display_data"
    }
   ],
   "source": [
    "plt.scatter(x1,y)\n",
    "yhat = 0.2750 + 0.0017*x1\n",
    "fig2 = plt.plot(x1,yhat, lw=4, c='orange', label = 'regression line')\n",
    "\n",
    "upper_line = 0.2750 + 0.409 + 0.0017*x1\n",
    "fig3 = plt.plot(x1,upper_line, lw=1, c='red', label = 'Upper line')\n",
    "\n",
    "lower_line = 0.2750 - 0.409 + 0.0017*x1\n",
    "fig4 = plt.plot(x1,lower_line, lw=1, c='red', label = 'Lower line')\n",
    "\n",
    "plt.xlabel('SAT', fontsize = 20)\n",
    "plt.ylabel('GPA', fontsize = 20)\n",
    "plt.show()"
   ]
  },
  {
   "cell_type": "markdown",
   "metadata": {},
   "source": [
    "The next two columns are for the t-statistics and its p-value. Without digging deeper into these matters, it's worth noting that there is a hypothesis involved here. The **Null Hypothesis** of this test is $ H_0 : b = 0$. In other words, is the coefficient equals to zero?\n",
    "\n",
    "**Essentially, these columns are trying to tell us if a variable is useful or not to our model**. Conveniently, the answer is contained in the p-value column. In statistics, a $p-value < 0.05$ means that the variable is significant to our model performance. \n",
    "\n",
    "Therefore, a p-value of 0.503 to the const coefficient indicates that the constant variable is not significant to our model. This can be justified by the fact that we are only trying to capture the relationship between the SAT and the GPA score. For the SAT variable, a p-value of 0.000 tells us that the SAT score is a significant variable when predicting college GPA."
   ]
  },
  {
   "cell_type": "markdown",
   "metadata": {},
   "source": [
    "### Variability: How powerful is our model?"
   ]
  },
  {
   "cell_type": "markdown",
   "metadata": {},
   "source": [
    "So far, we analyzed the coefficients table only, it is now time to go further and have a look at the first table.\n",
    "\n",
    "The model summary table holds a bunch of important information, there are some self explanatory variables, like the dependent variable of the model, the model and the method and so on. However, we will talk about the **R-squared** now.\n",
    "\n",
    "The R-squared variable is a relative measure that takes values from range $[0, 1]$. A R-squared of 0 means that your regression line explains none of the variability of the data. Conversely, a R-squared of 1 implies that your regression line explains all the variability of the data. But be careful now!\n",
    "\n",
    "In our simple linear regression model we obtained a R-squared equals to 0.406. Is that a good result? Well, it may be. A low R-squared value implies that the SAT score is not enough to capture all the variability of our data. Other variables such as gender, income and marital status could provide more information to our model."
   ]
  },
  {
   "cell_type": "markdown",
   "metadata": {},
   "source": [
    "## 3. Multiple linear regression"
   ]
  },
  {
   "cell_type": "markdown",
   "metadata": {},
   "source": [
    "In real world problems we need more than one variable to get a good accuracy score in our predictions. As we saw in the last section, the SAT score explained some variability of the dataset but it was not capable of capture all its variation. \n",
    "\n",
    "Usually we need to add two or more factors to our model in order to explain the variability of some processes. For instance, take the price of a house as a dependent variable of a regression model. We could use the size of the house as the independent variable but it won't capture all the variability of houses prices. A good choice would be to add its location, some additional information like the quantity of rooms, has or not a pool and so on...\n",
    "\n",
    "This would be an example of a _Multiple linear regression_. The linear regression equation is as follows:\n",
    "\n",
    "$$\\hat{y} = b_0 + b_1 x_1 + b_2 x_2 +...+ b_k x_k$$\n",
    "\n",
    "there isn't much to explain about this equation as it is only a generalization of the equation for a simple linear regression."
   ]
  },
  {
   "cell_type": "markdown",
   "metadata": {},
   "source": [
    "### How many variables are sufficient to our model? "
   ]
  },
  {
   "cell_type": "markdown",
   "metadata": {},
   "source": [
    "To answer this question, let's get our hands dirty with our first multiple linear regression model. Initially, we must load the dataset into the kernel."
   ]
  },
  {
   "cell_type": "code",
   "execution_count": 11,
   "metadata": {},
   "outputs": [],
   "source": [
    "path_name = r'C:\\Users\\alexa\\Documents\\Data Science Course - Bootcamp\\Regression Analysis\\datasets\\2. Multiple linear regression.csv'\n",
    "data = pd.read_csv(path_name)"
   ]
  },
  {
   "cell_type": "code",
   "execution_count": 12,
   "metadata": {},
   "outputs": [
    {
     "data": {
      "text/html": [
       "<div>\n",
       "<style scoped>\n",
       "    .dataframe tbody tr th:only-of-type {\n",
       "        vertical-align: middle;\n",
       "    }\n",
       "\n",
       "    .dataframe tbody tr th {\n",
       "        vertical-align: top;\n",
       "    }\n",
       "\n",
       "    .dataframe thead th {\n",
       "        text-align: right;\n",
       "    }\n",
       "</style>\n",
       "<table border=\"1\" class=\"dataframe\">\n",
       "  <thead>\n",
       "    <tr style=\"text-align: right;\">\n",
       "      <th></th>\n",
       "      <th>SAT</th>\n",
       "      <th>GPA</th>\n",
       "      <th>Rand 1,2,3</th>\n",
       "    </tr>\n",
       "  </thead>\n",
       "  <tbody>\n",
       "    <tr>\n",
       "      <th>0</th>\n",
       "      <td>1714</td>\n",
       "      <td>2.40</td>\n",
       "      <td>1</td>\n",
       "    </tr>\n",
       "    <tr>\n",
       "      <th>1</th>\n",
       "      <td>1664</td>\n",
       "      <td>2.52</td>\n",
       "      <td>3</td>\n",
       "    </tr>\n",
       "    <tr>\n",
       "      <th>2</th>\n",
       "      <td>1760</td>\n",
       "      <td>2.54</td>\n",
       "      <td>3</td>\n",
       "    </tr>\n",
       "    <tr>\n",
       "      <th>3</th>\n",
       "      <td>1685</td>\n",
       "      <td>2.74</td>\n",
       "      <td>3</td>\n",
       "    </tr>\n",
       "    <tr>\n",
       "      <th>4</th>\n",
       "      <td>1693</td>\n",
       "      <td>2.83</td>\n",
       "      <td>2</td>\n",
       "    </tr>\n",
       "  </tbody>\n",
       "</table>\n",
       "</div>"
      ],
      "text/plain": [
       "    SAT   GPA  Rand 1,2,3\n",
       "0  1714  2.40           1\n",
       "1  1664  2.52           3\n",
       "2  1760  2.54           3\n",
       "3  1685  2.74           3\n",
       "4  1693  2.83           2"
      ]
     },
     "execution_count": 12,
     "metadata": {},
     "output_type": "execute_result"
    }
   ],
   "source": [
    "data.head()"
   ]
  },
  {
   "cell_type": "markdown",
   "metadata": {},
   "source": [
    "As you can see, this time we'll be addressing the same problem of predict GPA score with the SAT score plus a random variable that ranges from 1 to 3. This random variable is useless to our model, as it not explains none of the variability of the dependent variable. We just added it here to make a point. With that, the equation of our model is given by\n",
    "\n",
    "$$\\hat{y} = b_0 + b_1 x_1 + b_2 x_2$$"
   ]
  },
  {
   "cell_type": "code",
   "execution_count": 13,
   "metadata": {},
   "outputs": [],
   "source": [
    "y = data['GPA']\n",
    "x1 = data[['SAT', 'Rand 1,2,3']]"
   ]
  },
  {
   "cell_type": "code",
   "execution_count": 14,
   "metadata": {},
   "outputs": [],
   "source": [
    "x = sm.add_constant(x1)"
   ]
  },
  {
   "cell_type": "code",
   "execution_count": 15,
   "metadata": {},
   "outputs": [
    {
     "data": {
      "text/html": [
       "<table class=\"simpletable\">\n",
       "<caption>OLS Regression Results</caption>\n",
       "<tr>\n",
       "  <th>Dep. Variable:</th>           <td>GPA</td>       <th>  R-squared:         </th> <td>   0.407</td>\n",
       "</tr>\n",
       "<tr>\n",
       "  <th>Model:</th>                   <td>OLS</td>       <th>  Adj. R-squared:    </th> <td>   0.392</td>\n",
       "</tr>\n",
       "<tr>\n",
       "  <th>Method:</th>             <td>Least Squares</td>  <th>  F-statistic:       </th> <td>   27.76</td>\n",
       "</tr>\n",
       "<tr>\n",
       "  <th>Date:</th>             <td>Tue, 12 Feb 2019</td> <th>  Prob (F-statistic):</th> <td>6.58e-10</td>\n",
       "</tr>\n",
       "<tr>\n",
       "  <th>Time:</th>                 <td>14:37:59</td>     <th>  Log-Likelihood:    </th> <td>  12.720</td>\n",
       "</tr>\n",
       "<tr>\n",
       "  <th>No. Observations:</th>      <td>    84</td>      <th>  AIC:               </th> <td>  -19.44</td>\n",
       "</tr>\n",
       "<tr>\n",
       "  <th>Df Residuals:</th>          <td>    81</td>      <th>  BIC:               </th> <td>  -12.15</td>\n",
       "</tr>\n",
       "<tr>\n",
       "  <th>Df Model:</th>              <td>     2</td>      <th>                     </th>     <td> </td>   \n",
       "</tr>\n",
       "<tr>\n",
       "  <th>Covariance Type:</th>      <td>nonrobust</td>    <th>                     </th>     <td> </td>   \n",
       "</tr>\n",
       "</table>\n",
       "<table class=\"simpletable\">\n",
       "<tr>\n",
       "       <td></td>         <th>coef</th>     <th>std err</th>      <th>t</th>      <th>P>|t|</th>  <th>[0.025</th>    <th>0.975]</th>  \n",
       "</tr>\n",
       "<tr>\n",
       "  <th>const</th>      <td>    0.2960</td> <td>    0.417</td> <td>    0.710</td> <td> 0.480</td> <td>   -0.533</td> <td>    1.125</td>\n",
       "</tr>\n",
       "<tr>\n",
       "  <th>SAT</th>        <td>    0.0017</td> <td>    0.000</td> <td>    7.432</td> <td> 0.000</td> <td>    0.001</td> <td>    0.002</td>\n",
       "</tr>\n",
       "<tr>\n",
       "  <th>Rand 1,2,3</th> <td>   -0.0083</td> <td>    0.027</td> <td>   -0.304</td> <td> 0.762</td> <td>   -0.062</td> <td>    0.046</td>\n",
       "</tr>\n",
       "</table>\n",
       "<table class=\"simpletable\">\n",
       "<tr>\n",
       "  <th>Omnibus:</th>       <td>12.992</td> <th>  Durbin-Watson:     </th> <td>   0.948</td>\n",
       "</tr>\n",
       "<tr>\n",
       "  <th>Prob(Omnibus):</th> <td> 0.002</td> <th>  Jarque-Bera (JB):  </th> <td>  16.364</td>\n",
       "</tr>\n",
       "<tr>\n",
       "  <th>Skew:</th>          <td>-0.731</td> <th>  Prob(JB):          </th> <td>0.000280</td>\n",
       "</tr>\n",
       "<tr>\n",
       "  <th>Kurtosis:</th>      <td> 4.594</td> <th>  Cond. No.          </th> <td>3.33e+04</td>\n",
       "</tr>\n",
       "</table><br/><br/>Warnings:<br/>[1] Standard Errors assume that the covariance matrix of the errors is correctly specified.<br/>[2] The condition number is large, 3.33e+04. This might indicate that there are<br/>strong multicollinearity or other numerical problems."
      ],
      "text/plain": [
       "<class 'statsmodels.iolib.summary.Summary'>\n",
       "\"\"\"\n",
       "                            OLS Regression Results                            \n",
       "==============================================================================\n",
       "Dep. Variable:                    GPA   R-squared:                       0.407\n",
       "Model:                            OLS   Adj. R-squared:                  0.392\n",
       "Method:                 Least Squares   F-statistic:                     27.76\n",
       "Date:                Tue, 12 Feb 2019   Prob (F-statistic):           6.58e-10\n",
       "Time:                        14:37:59   Log-Likelihood:                 12.720\n",
       "No. Observations:                  84   AIC:                            -19.44\n",
       "Df Residuals:                      81   BIC:                            -12.15\n",
       "Df Model:                           2                                         \n",
       "Covariance Type:            nonrobust                                         \n",
       "==============================================================================\n",
       "                 coef    std err          t      P>|t|      [0.025      0.975]\n",
       "------------------------------------------------------------------------------\n",
       "const          0.2960      0.417      0.710      0.480      -0.533       1.125\n",
       "SAT            0.0017      0.000      7.432      0.000       0.001       0.002\n",
       "Rand 1,2,3    -0.0083      0.027     -0.304      0.762      -0.062       0.046\n",
       "==============================================================================\n",
       "Omnibus:                       12.992   Durbin-Watson:                   0.948\n",
       "Prob(Omnibus):                  0.002   Jarque-Bera (JB):               16.364\n",
       "Skew:                          -0.731   Prob(JB):                     0.000280\n",
       "Kurtosis:                       4.594   Cond. No.                     3.33e+04\n",
       "==============================================================================\n",
       "\n",
       "Warnings:\n",
       "[1] Standard Errors assume that the covariance matrix of the errors is correctly specified.\n",
       "[2] The condition number is large, 3.33e+04. This might indicate that there are\n",
       "strong multicollinearity or other numerical problems.\n",
       "\"\"\""
      ]
     },
     "execution_count": 15,
     "metadata": {},
     "output_type": "execute_result"
    }
   ],
   "source": [
    "results = sm.OLS(y,x).fit()\n",
    "results.summary()"
   ]
  },
  {
   "cell_type": "markdown",
   "metadata": {},
   "source": [
    "Let's compare the results obtained for this model and our first model. Below, we have a table showing a comparison between the R-squared values of each model and also the Adjusted R-squared.\n",
    "______________________________________________________\n",
    "| Measure      | Simple lin. reg.| Multiple lin. reg |\n",
    "|--------------|-----------------|-------------------|\n",
    "| R-squared    |0.406            | 0.407             |\n",
    "|Adj. R-squared|0.399            | 0.392             |\n",
    "\n",
    "Look how the R-squared almost changed nothing in both cases, this implies that the addition of the _random_ independent variable did not improved the explanatory power of our model. On the other hand, we have a even more interesting result when looking at the Adj. R-squared variable.\n",
    "\n",
    "The **Adjusted R-squared** variable is always less than the R-squared. This new outcome **penalizes excessive use of variables in the models that have no strong explanatory power**. We will not dig deeper into the mathematical details about the Adj. R-squared. However, look at how the value for the Multiple lin. reg. model is lower than for the Simple lin. reg., this is an evidence that the addition of the _random_ variable is not significant to our model.\n",
    "\n",
    "Indeed, in a more accurate analysis, if you look at the coefficient table it becomes clear that the _random_ variable is useless to our model. It has a p-value = 0.762, meaning that we cannot reject the null hypothesis ($H_0 : b_2 = 0$) at a 76% significance level. This is incredibly high!\n",
    "\n",
    "Another tool that allows us comparing models is the **F-statistic**. The F-statistic follows an [F-distribution](https://en.wikipedia.org/wiki/F-distribution). In other words, there is a hypothesis test here! The test is known for the overall significance of the model. The null Hypothesis is $H_0 : b_0 = b_1 =$ ... $= b_n = 0$ and the alternative hypothesis is $H_1 : b_i \\neq 0$, that is, at least one coefficient is different from zero. \n",
    "\n",
    "**What is the interpretation?** if all $b$'s are zero, then none of the independent variables matter. Therefore, our model has no merit. See the comparison between the F-statistic and its p-value for the two models.\n",
    "\n",
    "___________________________________________________________\n",
    "| Measure           | Simple lin. reg.| Multiple lin. reg |\n",
    "|-------------------|-----------------|-------------------|\n",
    "| F-statistic       |56.05            | 27.76             |\n",
    "|Prob (F-statistic) |7.20e-11         | 6.58e-10          |\n",
    "\n",
    "The p-value of the F-statistic for both models is virtually zero, meaning that our model significantly explains the variability of the data. On the other hand, the F-statistic for the Multiple linear regression is half the value. The lower the F-statistic, the closer to a non-significant model.\n",
    "\n",
    "The point is: cherry pick your data when performing a linear regression. Adding new variables does not necessarily implies in increasing the explainability power of the model."
   ]
  },
  {
   "cell_type": "markdown",
   "metadata": {},
   "source": [
    "## 4. Assumptions for Linear Regression"
   ]
  },
  {
   "cell_type": "markdown",
   "metadata": {},
   "source": [
    "So far, we introduced quite a few notions about regression. Still, for which cases can we perform a linear regression? This section aims to answer this question. As the purpose of this kernel is to provide a better understading about regression, it is important for you not to skip this section. It is important to know all the regression assumptions and consider them before you perform regression analysis. The regression assumptions are:\n",
    "\n",
    "    1. Linearity\n",
    "    2. No endogeneity\n",
    "    3. Normality and homoscedasticity\n",
    "    4. No autocorrelation\n",
    "    5. No multicolinearity\n",
    "\n",
    "All these assumptions will be explained in the next sections."
   ]
  },
  {
   "cell_type": "markdown",
   "metadata": {},
   "source": [
    "### 4.1 Linearity"
   ]
  },
  {
   "cell_type": "markdown",
   "metadata": {},
   "source": [
    "The linear regression is the simplest non-trivial relationship. It is called linear because the regression equation is linear! How can you verify if the relation between two variables is linear?\n",
    "\n",
    "The easiest way is to choose an independent variable and plot it against the dependent variable on a scatter plot just like the SAT _vs._ GPA plot\n",
    "\n",
    "<img src=\"linear.png\">\n",
    "\n",
    "On the other hand, examine the following plot. There is no straight line that can fit appropriately to the data points. In this case, a curve line expresses more accurately the data variability. Therefore, it is not recommended to perform a linear regression to this data.\n",
    "\n",
    "<img src=\"quadratic.png\">\n",
    "\n",
    "There are easy ways to fix non-linearity such as\n",
    "\n",
    "    1. Run a non-linear regression\n",
    "    2. Apply and exponential transformation\n",
    "    3. Apply a logarithmical transformation\n",
    "    \n",
    "As we are just highlighting the Linear regression assumptions, we will not explore these tools here. What you need to know is that whenever you intend to perform a linear regression, try to see if it is possible! \n",
    "\n",
    "If the data can not be fitted by a straight line, try to make a transformation and then perform linear regression!"
   ]
  },
  {
   "cell_type": "markdown",
   "metadata": {},
   "source": [
    "### 4.2 No endogeneity"
   ]
  },
  {
   "cell_type": "markdown",
   "metadata": {},
   "source": [
    "The second assumption is the so-called no endogeneity of regressors. It refers to the prohibition of a link between independent variables and the errors mathematically expressed by the following equation\n",
    "\n",
    "$$ \\sigma_{X\\epsilon} = 0 : \\forall x, \\epsilon$$\n",
    "\n",
    "This equations is telling us that the error (the difference between the observed and the predicted values) must not be correlated with any independent variables. This is a problem referred to as _omitted variable bias_. This problem arises when we forget to include a crucial variable in the model. Consider the following case:\n",
    "\n",
    "the $y$ variable is explained by the $x$ variable and also by a $x^{*}$ variable that was omitted in the model. Chances are that $x$ is correlated to $x^{*}$. However, we did not include it as a regressor. Everything that is not explained by the model goes into the error. So, actually, the error becomes correlated with everything else.\n",
    "______\n",
    "\n",
    "Let's try another example. Suppose we are trying to predict the price, $y$, of an apartment building, in New York City by using only its size, $x$, as a regressor. Then, we obtained the following equation from the model:\n",
    "\n",
    "$$y = 890345 - 48947 x$$\n",
    "\n",
    "The yielded result is extremely counterintuitive as we expect that the higher the price, the more expensive the apartment. This implies that the covariance between the independent variable and the error is different from zero ($\\sigma_{X\\epsilon} \\neq 0$). Critical thinking time! you can ask yourself questions like:\n",
    "\n",
    "    1. Where do I draw the sample from?\n",
    "    2. Can I get a better sample?\n",
    "    3. Why is bigger real estate cheaper?\n",
    "    \n",
    "Let's consider the following: The sample comprises apartment buildings in central New York and is large enough so the problem is not with the sample. Remember that the we are in New York! The place with some of the most valuable real estate in the world! we ommitted the exact location as a variable. In almost any other city, this factor would not be such a huge headache for us. But, in our particular example, the million dolar suits in the city of New York turn things around. After we add this variable we may get a result like:\n",
    "\n",
    "$$y = 54209 + 37892 x_{size} + 78234 x_{city}$$\n",
    "\n",
    "which looks amazing! Larger properties are more expensive!\n",
    "\n",
    "The lesson here is: advanced knowledge in the subject is helpful! If you do not understand your problem, you can fall into the endogeneity problem."
   ]
  },
  {
   "cell_type": "markdown",
   "metadata": {},
   "source": [
    "### 4.3 Normality and Homoscedasticity"
   ]
  },
  {
   "cell_type": "markdown",
   "metadata": {},
   "source": [
    "The third assumption can expressed by the equation $\\epsilon \\sim N(0, \\sigma^2)$. Derived from the equation, the third assumption comprises three parts:\n",
    "\n",
    "   1. **Normality**: \n",
    "    We assume the error term is normally distributed. Normal distribution is not required for making a regression but for making inferences. Remember that the t-statistics and the F-statistics apply only when the error is normally distributed. \n",
    "    \n",
    "Note that a possible solution for this problem is to apply the central limit theorem.\n",
    "    \n",
    "   2. **Zero Mean**:\n",
    "    If the error mean is not expected to be zero, than a line will not yield a good fitting. However, having an intercept solves that problem. So, in real life it is unusual to violate this part of the assumption.\n",
    "        \n",
    "   3. **Homoscedasticity**: \n",
    "    This part means that the error must have equal variance. Put in another way,\n",
    "    \n",
    "$$\\sigma^2 _{\\epsilon_1} = \\sigma^2 _{\\epsilon_2} =  ... = \\sigma^2 _{\\epsilon_n} = 0$$\n",
    "\n",
    "   What if there is a pattern in the variance? We will discuss more about this topic as it is a bit more confusing than the others."
   ]
  },
  {
   "cell_type": "markdown",
   "metadata": {},
   "source": [
    "_____________________________\n",
    "#### 4.3.1 Homoscedasticity _vs_ Heteroscedasticity: How to detect and visualize"
   ]
  },
  {
   "cell_type": "markdown",
   "metadata": {},
   "source": [
    "We will go through an example in order to clarify what is Homoscedasticity and Heteroscedasticity. We'll use an example cross-sectional study to model the number of automobile accidents by the population of towns and cities. The data is purely fictional but it correct illustrates the problem."
   ]
  },
  {
   "cell_type": "code",
   "execution_count": 16,
   "metadata": {},
   "outputs": [],
   "source": [
    "# Import the data\n",
    "path_name = r'C:\\Users\\alexa\\Documents\\Data Science Course - Bootcamp\\Regression Analysis\\datasets\\Heteroscedasticity.csv'\n",
    "heter_data = pd.read_csv(path_name)"
   ]
  },
  {
   "cell_type": "code",
   "execution_count": 17,
   "metadata": {},
   "outputs": [
    {
     "data": {
      "text/html": [
       "<div>\n",
       "<style scoped>\n",
       "    .dataframe tbody tr th:only-of-type {\n",
       "        vertical-align: middle;\n",
       "    }\n",
       "\n",
       "    .dataframe tbody tr th {\n",
       "        vertical-align: top;\n",
       "    }\n",
       "\n",
       "    .dataframe thead th {\n",
       "        text-align: right;\n",
       "    }\n",
       "</style>\n",
       "<table border=\"1\" class=\"dataframe\">\n",
       "  <thead>\n",
       "    <tr style=\"text-align: right;\">\n",
       "      <th></th>\n",
       "      <th>Accidents</th>\n",
       "      <th>AccidentRate</th>\n",
       "      <th>Population</th>\n",
       "      <th>Weight</th>\n",
       "    </tr>\n",
       "  </thead>\n",
       "  <tbody>\n",
       "    <tr>\n",
       "      <th>0</th>\n",
       "      <td>20</td>\n",
       "      <td>0.000135</td>\n",
       "      <td>147603.989041</td>\n",
       "      <td>0.000007</td>\n",
       "    </tr>\n",
       "    <tr>\n",
       "      <th>1</th>\n",
       "      <td>38</td>\n",
       "      <td>0.000062</td>\n",
       "      <td>611903.157933</td>\n",
       "      <td>0.000002</td>\n",
       "    </tr>\n",
       "    <tr>\n",
       "      <th>2</th>\n",
       "      <td>17</td>\n",
       "      <td>0.000120</td>\n",
       "      <td>141304.462040</td>\n",
       "      <td>0.000007</td>\n",
       "    </tr>\n",
       "    <tr>\n",
       "      <th>3</th>\n",
       "      <td>16</td>\n",
       "      <td>0.000078</td>\n",
       "      <td>204849.503667</td>\n",
       "      <td>0.000005</td>\n",
       "    </tr>\n",
       "    <tr>\n",
       "      <th>4</th>\n",
       "      <td>20</td>\n",
       "      <td>0.000131</td>\n",
       "      <td>152426.475662</td>\n",
       "      <td>0.000007</td>\n",
       "    </tr>\n",
       "  </tbody>\n",
       "</table>\n",
       "</div>"
      ],
      "text/plain": [
       "   Accidents  AccidentRate     Population    Weight\n",
       "0         20      0.000135  147603.989041  0.000007\n",
       "1         38      0.000062  611903.157933  0.000002\n",
       "2         17      0.000120  141304.462040  0.000007\n",
       "3         16      0.000078  204849.503667  0.000005\n",
       "4         20      0.000131  152426.475662  0.000007"
      ]
     },
     "execution_count": 17,
     "metadata": {},
     "output_type": "execute_result"
    }
   ],
   "source": [
    "# Explore the data\n",
    "heter_data.head()"
   ]
  },
  {
   "cell_type": "markdown",
   "metadata": {},
   "source": [
    "For simplification, we'll perform a Simple Linear regression in which the Population is the independent variable and the number of Accidents is dependent variable."
   ]
  },
  {
   "cell_type": "code",
   "execution_count": 18,
   "metadata": {},
   "outputs": [],
   "source": [
    "x1 = heter_data['Population']\n",
    "y = heter_data['Accidents']"
   ]
  },
  {
   "cell_type": "code",
   "execution_count": 19,
   "metadata": {},
   "outputs": [
    {
     "data": {
      "text/plain": [
       "Text(0, 0.5, 'Accidents')"
      ]
     },
     "execution_count": 19,
     "metadata": {},
     "output_type": "execute_result"
    },
    {
     "data": {
      "image/png": "[encoded data removed]",
      "text/plain": [
       "<Figure size 432x288 with 1 Axes>"
      ]
     },
     "metadata": {
      "needs_background": "light"
     },
     "output_type": "display_data"
    }
   ],
   "source": [
    "plt.scatter(x1,y)\n",
    "plt.xlabel('Population')\n",
    "plt.ylabel('Accidents')"
   ]
  },
  {
   "cell_type": "code",
   "execution_count": 20,
   "metadata": {},
   "outputs": [],
   "source": [
    "x = sm.add_constant(x1)"
   ]
  },
  {
   "cell_type": "code",
   "execution_count": 21,
   "metadata": {},
   "outputs": [
    {
     "data": {
      "text/html": [
       "<table class=\"simpletable\">\n",
       "<caption>OLS Regression Results</caption>\n",
       "<tr>\n",
       "  <th>Dep. Variable:</th>        <td>Accidents</td>    <th>  R-squared:         </th> <td>   0.858</td>\n",
       "</tr>\n",
       "<tr>\n",
       "  <th>Model:</th>                   <td>OLS</td>       <th>  Adj. R-squared:    </th> <td>   0.856</td>\n",
       "</tr>\n",
       "<tr>\n",
       "  <th>Method:</th>             <td>Least Squares</td>  <th>  F-statistic:       </th> <td>   632.4</td>\n",
       "</tr>\n",
       "<tr>\n",
       "  <th>Date:</th>             <td>Tue, 12 Feb 2019</td> <th>  Prob (F-statistic):</th> <td>3.03e-46</td>\n",
       "</tr>\n",
       "<tr>\n",
       "  <th>Time:</th>                 <td>14:38:00</td>     <th>  Log-Likelihood:    </th> <td> -360.32</td>\n",
       "</tr>\n",
       "<tr>\n",
       "  <th>No. Observations:</th>      <td>   107</td>      <th>  AIC:               </th> <td>   724.6</td>\n",
       "</tr>\n",
       "<tr>\n",
       "  <th>Df Residuals:</th>          <td>   105</td>      <th>  BIC:               </th> <td>   730.0</td>\n",
       "</tr>\n",
       "<tr>\n",
       "  <th>Df Model:</th>              <td>     1</td>      <th>                     </th>     <td> </td>   \n",
       "</tr>\n",
       "<tr>\n",
       "  <th>Covariance Type:</th>      <td>nonrobust</td>    <th>                     </th>     <td> </td>   \n",
       "</tr>\n",
       "</table>\n",
       "<table class=\"simpletable\">\n",
       "<tr>\n",
       "       <td></td>         <th>coef</th>     <th>std err</th>      <th>t</th>      <th>P>|t|</th>  <th>[0.025</th>    <th>0.975]</th>  \n",
       "</tr>\n",
       "<tr>\n",
       "  <th>const</th>      <td>    5.8219</td> <td>    1.313</td> <td>    4.434</td> <td> 0.000</td> <td>    3.219</td> <td>    8.425</td>\n",
       "</tr>\n",
       "<tr>\n",
       "  <th>Population</th> <td> 7.186e-05</td> <td> 2.86e-06</td> <td>   25.147</td> <td> 0.000</td> <td> 6.62e-05</td> <td> 7.75e-05</td>\n",
       "</tr>\n",
       "</table>\n",
       "<table class=\"simpletable\">\n",
       "<tr>\n",
       "  <th>Omnibus:</th>       <td> 0.310</td> <th>  Durbin-Watson:     </th> <td>   1.814</td>\n",
       "</tr>\n",
       "<tr>\n",
       "  <th>Prob(Omnibus):</th> <td> 0.856</td> <th>  Jarque-Bera (JB):  </th> <td>   0.066</td>\n",
       "</tr>\n",
       "<tr>\n",
       "  <th>Skew:</th>          <td> 0.031</td> <th>  Prob(JB):          </th> <td>   0.968</td>\n",
       "</tr>\n",
       "<tr>\n",
       "  <th>Kurtosis:</th>      <td> 3.104</td> <th>  Cond. No.          </th> <td>8.81e+05</td>\n",
       "</tr>\n",
       "</table><br/><br/>Warnings:<br/>[1] Standard Errors assume that the covariance matrix of the errors is correctly specified.<br/>[2] The condition number is large, 8.81e+05. This might indicate that there are<br/>strong multicollinearity or other numerical problems."
      ],
      "text/plain": [
       "<class 'statsmodels.iolib.summary.Summary'>\n",
       "\"\"\"\n",
       "                            OLS Regression Results                            \n",
       "==============================================================================\n",
       "Dep. Variable:              Accidents   R-squared:                       0.858\n",
       "Model:                            OLS   Adj. R-squared:                  0.856\n",
       "Method:                 Least Squares   F-statistic:                     632.4\n",
       "Date:                Tue, 12 Feb 2019   Prob (F-statistic):           3.03e-46\n",
       "Time:                        14:38:00   Log-Likelihood:                -360.32\n",
       "No. Observations:                 107   AIC:                             724.6\n",
       "Df Residuals:                     105   BIC:                             730.0\n",
       "Df Model:                           1                                         \n",
       "Covariance Type:            nonrobust                                         \n",
       "==============================================================================\n",
       "                 coef    std err          t      P>|t|      [0.025      0.975]\n",
       "------------------------------------------------------------------------------\n",
       "const          5.8219      1.313      4.434      0.000       3.219       8.425\n",
       "Population  7.186e-05   2.86e-06     25.147      0.000    6.62e-05    7.75e-05\n",
       "==============================================================================\n",
       "Omnibus:                        0.310   Durbin-Watson:                   1.814\n",
       "Prob(Omnibus):                  0.856   Jarque-Bera (JB):                0.066\n",
       "Skew:                           0.031   Prob(JB):                        0.968\n",
       "Kurtosis:                       3.104   Cond. No.                     8.81e+05\n",
       "==============================================================================\n",
       "\n",
       "Warnings:\n",
       "[1] Standard Errors assume that the covariance matrix of the errors is correctly specified.\n",
       "[2] The condition number is large, 8.81e+05. This might indicate that there are\n",
       "strong multicollinearity or other numerical problems.\n",
       "\"\"\""
      ]
     },
     "execution_count": 21,
     "metadata": {},
     "output_type": "execute_result"
    }
   ],
   "source": [
    "results = sm.OLS(y,x).fit()\n",
    "results.summary()"
   ]
  },
  {
   "cell_type": "code",
   "execution_count": 22,
   "metadata": {},
   "outputs": [
    {
     "data": {
      "image/png": "[encoded data removed]",
      "text/plain": [
       "<Figure size 432x288 with 1 Axes>"
      ]
     },
     "metadata": {
      "needs_background": "light"
     },
     "output_type": "display_data"
    }
   ],
   "source": [
    "plt.scatter(x1,y)\n",
    "y_hat = 5.8219 + 0.00007186*x1\n",
    "fig1 = plt.plot(x1,y_hat, lw=2, c='orange', label = 'regression line')\n",
    "plt.xlabel('Population', fontsize = 20)\n",
    "plt.ylabel('Accidents', fontsize = 20)\n",
    "plt.show()"
   ]
  },
  {
   "cell_type": "code",
   "execution_count": 23,
   "metadata": {},
   "outputs": [
    {
     "data": {
      "text/plain": [
       "<matplotlib.axes._subplots.AxesSubplot at 0x2a64e7075f8>"
      ]
     },
     "execution_count": 23,
     "metadata": {},
     "output_type": "execute_result"
    },
    {
     "data": {
      "image/png": "[encoded data removed]",
      "text/plain": [
       "<Figure size 432x288 with 1 Axes>"
      ]
     },
     "metadata": {
      "needs_background": "light"
     },
     "output_type": "display_data"
    }
   ],
   "source": [
    "sns.residplot(x1, y_hat, lowess=True, color=\"g\")"
   ]
  },
  {
   "cell_type": "code",
   "execution_count": null,
   "metadata": {},
   "outputs": [],
   "source": []
  }
 ],
 "metadata": {
  "kernelspec": {
   "display_name": "Python 3",
   "language": "python",
   "name": "python3"
  },
  "language_info": {
   "codemirror_mode": {
    "name": "ipython",
    "version": 3
   },
   "file_extension": ".py",
   "mimetype": "text/x-python",
   "name": "python",
   "nbconvert_exporter": "python",
   "pygments_lexer": "ipython3",
   "version": "3.6.8"
  }
 },
 "nbformat": 4,
 "nbformat_minor": 2
}

{
 "cells": [
  {
   "cell_type": "markdown",
   "metadata": {},
   "source": [
    "# Regression Methods"
   ]
  },
  {
   "cell_type": "markdown",
   "metadata": {},
   "source": [
    "In statistics, linear regression is a linear approach to modeling the relationship between a scalar response (or dependent variable) and one or more explanatory variables (or independent variables). Particularly, the case for just one explanatory variable is known as simple linear regression. \n",
    "\n",
    "In this notebook, there is an example of an implementation of both a Simple Linear Regression and a Multiple Linear regression. Along with our journey we'll implement some code, explain and clarify some concepts about linear regression models.\n",
    "\n",
    "We'll explore basic concepts about statistics in order to talk about model performance and evaluation. Therefore, it is very helpful to have knowledge in basic descriptive statistics, inferential statistics and hypothesis testing.\n",
    "\n",
    "After implementing the regression models and discuss which are the good determinants of a linear regression, we'll summary the 5 regression assumptions. These 5 assumptions are crucial to the linear regression model and must be taken into account before performing a linear regression.\n",
    "\n",
    "For further studies on Linear Regression, you can start on [wikipedia](https://en.wikipedia.org/wiki/Linear_regression).\n",
    "Also, there are a bunch of good topics covered about regression (with examples) in [Statistics by Jim](http://statisticsbyjim.com/regression/). Finally, some sections and examples are based on the [udemy](https://www.udemy.com/) course [The Data Science Course 2019: Complete Data Science Bootcamp](https://www.udemy.com/the-data-science-course-complete-data-science-bootcamp/) material."
   ]
  },
  {
   "cell_type": "markdown",
   "metadata": {},
   "source": [
    "## 1. Simple Linear Regression"
   ]
  },
  {
   "cell_type": "markdown",
   "metadata": {},
   "source": [
    "The dataset used in this section is in a .csv file with GPA and SAT scores from some fictitious US students. We'll analyze this dataset and make a linear regression on the data in order to get some information about the performance of college students and how it is correlated with their SAT score."
   ]
  },
  {
   "cell_type": "markdown",
   "metadata": {},
   "source": [
    "### Import the relevant libraries"
   ]
  },
  {
   "cell_type": "code",
   "execution_count": 1,
   "metadata": {},
   "outputs": [],
   "source": [
    "import numpy as np\n",
    "import pandas as pd\n",
    "import statsmodels.api as sm\n",
    "import matplotlib.pyplot as plt\n",
    "import seaborn as sns\n",
    "sns.set()"
   ]
  },
  {
   "cell_type": "markdown",
   "metadata": {},
   "source": [
    "### Load the data"
   ]
  },
  {
   "cell_type": "code",
   "execution_count": 2,
   "metadata": {},
   "outputs": [],
   "source": [
    "path_name = r'C:\\Users\\alexa\\Documents\\Data Science Course - Bootcamp\\Regression Analysis\\datasets\\1. Simple linear regression.csv'\n",
    "data = pd.read_csv(path_name)"
   ]
  },
  {
   "cell_type": "code",
   "execution_count": 3,
   "metadata": {},
   "outputs": [
    {
     "data": {
      "text/html": [
       "<div>\n",
       "<style scoped>\n",
       "    .dataframe tbody tr th:only-of-type {\n",
       "        vertical-align: middle;\n",
       "    }\n",
       "\n",
       "    .dataframe tbody tr th {\n",
       "        vertical-align: top;\n",
       "    }\n",
       "\n",
       "    .dataframe thead th {\n",
       "        text-align: right;\n",
       "    }\n",
       "</style>\n",
       "<table border=\"1\" class=\"dataframe\">\n",
       "  <thead>\n",
       "    <tr style=\"text-align: right;\">\n",
       "      <th></th>\n",
       "      <th>SAT</th>\n",
       "      <th>GPA</th>\n",
       "    </tr>\n",
       "  </thead>\n",
       "  <tbody>\n",
       "    <tr>\n",
       "      <th>0</th>\n",
       "      <td>1714</td>\n",
       "      <td>2.40</td>\n",
       "    </tr>\n",
       "    <tr>\n",
       "      <th>1</th>\n",
       "      <td>1664</td>\n",
       "      <td>2.52</td>\n",
       "    </tr>\n",
       "    <tr>\n",
       "      <th>2</th>\n",
       "      <td>1760</td>\n",
       "      <td>2.54</td>\n",
       "    </tr>\n",
       "    <tr>\n",
       "      <th>3</th>\n",
       "      <td>1685</td>\n",
       "      <td>2.74</td>\n",
       "    </tr>\n",
       "    <tr>\n",
       "      <th>4</th>\n",
       "      <td>1693</td>\n",
       "      <td>2.83</td>\n",
       "    </tr>\n",
       "  </tbody>\n",
       "</table>\n",
       "</div>"
      ],
      "text/plain": [
       "    SAT   GPA\n",
       "0  1714  2.40\n",
       "1  1664  2.52\n",
       "2  1760  2.54\n",
       "3  1685  2.74\n",
       "4  1693  2.83"
      ]
     },
     "execution_count": 3,
     "metadata": {},
     "output_type": "execute_result"
    }
   ],
   "source": [
    "# Visualize your data\n",
    "data.head()"
   ]
  },
  {
   "cell_type": "code",
   "execution_count": 4,
   "metadata": {},
   "outputs": [
    {
     "data": {
      "text/html": [
       "<div>\n",
       "<style scoped>\n",
       "    .dataframe tbody tr th:only-of-type {\n",
       "        vertical-align: middle;\n",
       "    }\n",
       "\n",
       "    .dataframe tbody tr th {\n",
       "        vertical-align: top;\n",
       "    }\n",
       "\n",
       "    .dataframe thead th {\n",
       "        text-align: right;\n",
       "    }\n",
       "</style>\n",
       "<table border=\"1\" class=\"dataframe\">\n",
       "  <thead>\n",
       "    <tr style=\"text-align: right;\">\n",
       "      <th></th>\n",
       "      <th>SAT</th>\n",
       "      <th>GPA</th>\n",
       "    </tr>\n",
       "  </thead>\n",
       "  <tbody>\n",
       "    <tr>\n",
       "      <th>count</th>\n",
       "      <td>84.000000</td>\n",
       "      <td>84.000000</td>\n",
       "    </tr>\n",
       "    <tr>\n",
       "      <th>mean</th>\n",
       "      <td>1845.273810</td>\n",
       "      <td>3.330238</td>\n",
       "    </tr>\n",
       "    <tr>\n",
       "      <th>std</th>\n",
       "      <td>104.530661</td>\n",
       "      <td>0.271617</td>\n",
       "    </tr>\n",
       "    <tr>\n",
       "      <th>min</th>\n",
       "      <td>1634.000000</td>\n",
       "      <td>2.400000</td>\n",
       "    </tr>\n",
       "    <tr>\n",
       "      <th>25%</th>\n",
       "      <td>1772.000000</td>\n",
       "      <td>3.190000</td>\n",
       "    </tr>\n",
       "    <tr>\n",
       "      <th>50%</th>\n",
       "      <td>1846.000000</td>\n",
       "      <td>3.380000</td>\n",
       "    </tr>\n",
       "    <tr>\n",
       "      <th>75%</th>\n",
       "      <td>1934.000000</td>\n",
       "      <td>3.502500</td>\n",
       "    </tr>\n",
       "    <tr>\n",
       "      <th>max</th>\n",
       "      <td>2050.000000</td>\n",
       "      <td>3.810000</td>\n",
       "    </tr>\n",
       "  </tbody>\n",
       "</table>\n",
       "</div>"
      ],
      "text/plain": [
       "               SAT        GPA\n",
       "count    84.000000  84.000000\n",
       "mean   1845.273810   3.330238\n",
       "std     104.530661   0.271617\n",
       "min    1634.000000   2.400000\n",
       "25%    1772.000000   3.190000\n",
       "50%    1846.000000   3.380000\n",
       "75%    1934.000000   3.502500\n",
       "max    2050.000000   3.810000"
      ]
     },
     "execution_count": 4,
     "metadata": {},
     "output_type": "execute_result"
    }
   ],
   "source": [
    "# Visualize some statistics about your data\n",
    "data.describe()"
   ]
  },
  {
   "cell_type": "markdown",
   "metadata": {},
   "source": [
    "### 1.1 Create your first regression"
   ]
  },
  {
   "cell_type": "markdown",
   "metadata": {},
   "source": [
    "#### Define the dependent and the independent variable"
   ]
  },
  {
   "cell_type": "markdown",
   "metadata": {},
   "source": [
    "As we are trying to figure out how good is the SAT score to predict college students GPA. By definition, our dependent variable, $y$, is the GPA score and the independent variable, $x_1$, the SAT score. So, we'll split our dataset into these two classes."
   ]
  },
  {
   "cell_type": "code",
   "execution_count": 5,
   "metadata": {},
   "outputs": [],
   "source": [
    "y = data['GPA']\n",
    "x1 = data['SAT']"
   ]
  },
  {
   "cell_type": "markdown",
   "metadata": {},
   "source": [
    "#### Explore the data"
   ]
  },
  {
   "cell_type": "markdown",
   "metadata": {},
   "source": [
    "From the plot below, we can clearly see that there is a correlation (not necessarily causation) between the SAT score and the GPA score."
   ]
  },
  {
   "cell_type": "code",
   "execution_count": 6,
   "metadata": {},
   "outputs": [
    {
     "data": {
      "image/png": "[encoded data removed]",
      "text/plain": [
       "<Figure size 432x288 with 1 Axes>"
      ]
     },
     "metadata": {
      "needs_background": "light"
     },
     "output_type": "display_data"
    }
   ],
   "source": [
    "plt.scatter(x1,y)\n",
    "plt.xlabel('SAT',fontsize=20)\n",
    "plt.ylabel('GPA',fontsize=20)\n",
    "plt.show()"
   ]
  },
  {
   "cell_type": "markdown",
   "metadata": {},
   "source": [
    "#### Regression itself"
   ]
  },
  {
   "cell_type": "markdown",
   "metadata": {},
   "source": [
    "For computational reasons, we must add a constant columns of 1's to the independent variable set so that our equation for regression is given by \n",
    "\n",
    "$$\\hat{y} = b_0 \\times 1 + b_1 \\times x_1$$\n",
    "\n",
    "then, we are free to apply the Ordinary Least Squares method to the data.\n",
    "\n",
    "Lastly, it's a good practice to summarize the results in order to get some insights about the model like the relevance of the features and how good our model fits the data."
   ]
  },
  {
   "cell_type": "code",
   "execution_count": 1,
   "metadata": {},
   "outputs": [
    {
     "ename": "NameError",
     "evalue": "name 'sm' is not defined",
     "output_type": "error",
     "traceback": [
      "\u001b[1;31m---------------------------------------------------------------------------\u001b[0m",
      "\u001b[1;31mNameError\u001b[0m                                 Traceback (most recent call last)",
      "\u001b[1;32m<ipython-input-1-81b8cccd0951>\u001b[0m in \u001b[0;36m<module>\u001b[1;34m\u001b[0m\n\u001b[1;32m----> 1\u001b[1;33m \u001b[0mx\u001b[0m \u001b[1;33m=\u001b[0m \u001b[0msm\u001b[0m\u001b[1;33m.\u001b[0m\u001b[0madd_constant\u001b[0m\u001b[1;33m(\u001b[0m\u001b[0mx1\u001b[0m\u001b[1;33m)\u001b[0m\u001b[1;33m\u001b[0m\u001b[1;33m\u001b[0m\u001b[0m\n\u001b[0m",
      "\u001b[1;31mNameError\u001b[0m: name 'sm' is not defined"
     ]
    }
   ],
   "source": [
    "x = sm.add_constant(x1)"
   ]
  },
  {
   "cell_type": "code",
   "execution_count": 8,
   "metadata": {},
   "outputs": [
    {
     "data": {
      "text/html": [
       "<table class=\"simpletable\">\n",
       "<caption>OLS Regression Results</caption>\n",
       "<tr>\n",
       "  <th>Dep. Variable:</th>           <td>GPA</td>       <th>  R-squared:         </th> <td>   0.406</td>\n",
       "</tr>\n",
       "<tr>\n",
       "  <th>Model:</th>                   <td>OLS</td>       <th>  Adj. R-squared:    </th> <td>   0.399</td>\n",
       "</tr>\n",
       "<tr>\n",
       "  <th>Method:</th>             <td>Least Squares</td>  <th>  F-statistic:       </th> <td>   56.05</td>\n",
       "</tr>\n",
       "<tr>\n",
       "  <th>Date:</th>             <td>Thu, 14 Feb 2019</td> <th>  Prob (F-statistic):</th> <td>7.20e-11</td>\n",
       "</tr>\n",
       "<tr>\n",
       "  <th>Time:</th>                 <td>16:50:03</td>     <th>  Log-Likelihood:    </th> <td>  12.672</td>\n",
       "</tr>\n",
       "<tr>\n",
       "  <th>No. Observations:</th>      <td>    84</td>      <th>  AIC:               </th> <td>  -21.34</td>\n",
       "</tr>\n",
       "<tr>\n",
       "  <th>Df Residuals:</th>          <td>    82</td>      <th>  BIC:               </th> <td>  -16.48</td>\n",
       "</tr>\n",
       "<tr>\n",
       "  <th>Df Model:</th>              <td>     1</td>      <th>                     </th>     <td> </td>   \n",
       "</tr>\n",
       "<tr>\n",
       "  <th>Covariance Type:</th>      <td>nonrobust</td>    <th>                     </th>     <td> </td>   \n",
       "</tr>\n",
       "</table>\n",
       "<table class=\"simpletable\">\n",
       "<tr>\n",
       "    <td></td>       <th>coef</th>     <th>std err</th>      <th>t</th>      <th>P>|t|</th>  <th>[0.025</th>    <th>0.975]</th>  \n",
       "</tr>\n",
       "<tr>\n",
       "  <th>const</th> <td>    0.2750</td> <td>    0.409</td> <td>    0.673</td> <td> 0.503</td> <td>   -0.538</td> <td>    1.088</td>\n",
       "</tr>\n",
       "<tr>\n",
       "  <th>SAT</th>   <td>    0.0017</td> <td>    0.000</td> <td>    7.487</td> <td> 0.000</td> <td>    0.001</td> <td>    0.002</td>\n",
       "</tr>\n",
       "</table>\n",
       "<table class=\"simpletable\">\n",
       "<tr>\n",
       "  <th>Omnibus:</th>       <td>12.839</td> <th>  Durbin-Watson:     </th> <td>   0.950</td>\n",
       "</tr>\n",
       "<tr>\n",
       "  <th>Prob(Omnibus):</th> <td> 0.002</td> <th>  Jarque-Bera (JB):  </th> <td>  16.155</td>\n",
       "</tr>\n",
       "<tr>\n",
       "  <th>Skew:</th>          <td>-0.722</td> <th>  Prob(JB):          </th> <td>0.000310</td>\n",
       "</tr>\n",
       "<tr>\n",
       "  <th>Kurtosis:</th>      <td> 4.590</td> <th>  Cond. No.          </th> <td>3.29e+04</td>\n",
       "</tr>\n",
       "</table><br/><br/>Warnings:<br/>[1] Standard Errors assume that the covariance matrix of the errors is correctly specified.<br/>[2] The condition number is large, 3.29e+04. This might indicate that there are<br/>strong multicollinearity or other numerical problems."
      ],
      "text/plain": [
       "<class 'statsmodels.iolib.summary.Summary'>\n",
       "\"\"\"\n",
       "                            OLS Regression Results                            \n",
       "==============================================================================\n",
       "Dep. Variable:                    GPA   R-squared:                       0.406\n",
       "Model:                            OLS   Adj. R-squared:                  0.399\n",
       "Method:                 Least Squares   F-statistic:                     56.05\n",
       "Date:                Thu, 14 Feb 2019   Prob (F-statistic):           7.20e-11\n",
       "Time:                        16:50:03   Log-Likelihood:                 12.672\n",
       "No. Observations:                  84   AIC:                            -21.34\n",
       "Df Residuals:                      82   BIC:                            -16.48\n",
       "Df Model:                           1                                         \n",
       "Covariance Type:            nonrobust                                         \n",
       "==============================================================================\n",
       "                 coef    std err          t      P>|t|      [0.025      0.975]\n",
       "------------------------------------------------------------------------------\n",
       "const          0.2750      0.409      0.673      0.503      -0.538       1.088\n",
       "SAT            0.0017      0.000      7.487      0.000       0.001       0.002\n",
       "==============================================================================\n",
       "Omnibus:                       12.839   Durbin-Watson:                   0.950\n",
       "Prob(Omnibus):                  0.002   Jarque-Bera (JB):               16.155\n",
       "Skew:                          -0.722   Prob(JB):                     0.000310\n",
       "Kurtosis:                       4.590   Cond. No.                     3.29e+04\n",
       "==============================================================================\n",
       "\n",
       "Warnings:\n",
       "[1] Standard Errors assume that the covariance matrix of the errors is correctly specified.\n",
       "[2] The condition number is large, 3.29e+04. This might indicate that there are\n",
       "strong multicollinearity or other numerical problems.\n",
       "\"\"\""
      ]
     },
     "execution_count": 8,
     "metadata": {},
     "output_type": "execute_result"
    }
   ],
   "source": [
    "results = sm.OLS(y,x).fit()\n",
    "results.summary()"
   ]
  },
  {
   "cell_type": "markdown",
   "metadata": {},
   "source": [
    "Now that we have fitted the linear regression model to our data, it is time to visualize the outcomes. First of all, Let's have a look at the table above. Typically, every time we use statsmodels we'll have three main tables, namely:\n",
    "\n",
    "    1. Model Summary Table\n",
    "    2. Coefficients Table\n",
    "    3. Additional Tests Table\n",
    "\n",
    "The composition of all these tables is called _regression table_ and it provides useful insights about our model. We will cover almost all of it along this notebook but for now, we'll focus only on some records of it.\n",
    "\n",
    "at the Coefficients Table, look at the _coef_'s column. it has 2 values, these are the coefficients $b_0$ (const) and $b_1$ (SAT) of the regression model, which means that the equation that fits better our data is given by\n",
    "\n",
    "$$ \\hat{y} = 0.2750 + 0.0017 x_1 $$\n",
    "\n",
    "Below, the line described by this equation is drawn over the data points. It is clearly a good prediction over the provided data, but we'll explore some statistical evidence of that soon enough."
   ]
  },
  {
   "cell_type": "code",
   "execution_count": 9,
   "metadata": {},
   "outputs": [
    {
     "data": {
      "image/png": "[encoded data removed]",
      "text/plain": [
       "<Figure size 432x288 with 1 Axes>"
      ]
     },
     "metadata": {
      "needs_background": "light"
     },
     "output_type": "display_data"
    }
   ],
   "source": [
    "plt.scatter(x1,y)\n",
    "yhat = 0.2750 + 0.0017*x1\n",
    "fig1 = plt.plot(x1,yhat, lw=4, c='orange', label = 'regression line')\n",
    "plt.savefig('linear.png')\n",
    "plt.xlabel('SAT', fontsize = 20)\n",
    "plt.ylabel('GPA', fontsize = 20)\n",
    "plt.show()"
   ]
  },
  {
   "cell_type": "markdown",
   "metadata": {},
   "source": [
    "## 2. What are the determinants of a good regression?"
   ]
  },
  {
   "cell_type": "markdown",
   "metadata": {},
   "source": [
    "It is time to explore the other records of the coefficients table. You can skip this section and go straight to the next section about Multiple Linear Regression but is in this section that we build the foundations for a better understanding of the performance of a regression model.\n",
    "\n",
    "Let's use the results of our last model. The _std err_ column shows the prediction accuracy for each variable, the lower the standard error, the better the estimate. In other words, **the standard error tells us how much our regression model is most likely or not to make a wrong prediction**. \n",
    "\n",
    "Below, it is possible to visualize two red lines encapsulating almost all data points inside the range:\n",
    "\n",
    "$$[b_0 - std\\_err + b_1 x_1, b_0 + std\\_err + b_1 x_1]$$"
   ]
  },
  {
   "cell_type": "code",
   "execution_count": 10,
   "metadata": {},
   "outputs": [
    {
     "data": {
      "image/png": "[encoded data removed]",
      "text/plain": [
       "<Figure size 432x288 with 1 Axes>"
      ]
     },
     "metadata": {
      "needs_background": "light"
     },
     "output_type": "display_data"
    }
   ],
   "source": [
    "plt.scatter(x1,y)\n",
    "yhat = 0.2750 + 0.0017*x1\n",
    "fig2 = plt.plot(x1,yhat, lw=4, c='orange', label = 'regression line')\n",
    "\n",
    "upper_line = 0.2750 + 0.409 + 0.0017*x1\n",
    "fig3 = plt.plot(x1,upper_line, lw=1, c='red', label = 'Upper line')\n",
    "\n",
    "lower_line = 0.2750 - 0.409 + 0.0017*x1\n",
    "fig4 = plt.plot(x1,lower_line, lw=1, c='red', label = 'Lower line')\n",
    "\n",
    "plt.xlabel('SAT', fontsize = 20)\n",
    "plt.ylabel('GPA', fontsize = 20)\n",
    "plt.show()"
   ]
  },
  {
   "cell_type": "markdown",
   "metadata": {},
   "source": [
    "The next two columns to the right are for the t-statistics and its p-value. Without digging deeper into these matters, it's worth noting that there is a hypothesis involved here. The **Null Hypothesis** of this test is $ H_0 : b = 0$. In other words, is the coefficient equals to zero?\n",
    "\n",
    "**Essentially, these columns are trying to tell us if a variable is useful or not to our model**. Conveniently, the answer is contained in the p-value column. In statistics, a $p-value < 0.05$ means that the variable is significant to our model performance. Otherwise, we may consider not to include it in the independent variables set. \n",
    "\n",
    "Therefore, a p-value of 0.503 to the const coefficient indicates that the constant variable is not significant to our model. This can be justified by the fact that we are only trying to capture the relationship between the SAT and the GPA score. For the SAT variable, a p-value of 0.000 tells us that the SAT score is a significant variable when predicting college GPA."
   ]
  },
  {
   "cell_type": "markdown",
   "metadata": {},
   "source": [
    "### Variability: How powerful is our model?"
   ]
  },
  {
   "cell_type": "markdown",
   "metadata": {},
   "source": [
    "So far, we analyzed the coefficients table only, it is now time to go further and have a look at the first table.\n",
    "\n",
    "The Model Summary Table holds a bunch of important information to us, there are some self-explanatory variables, like the dependent variable of the model, the model itself, the method and so on. However, we will talk about the **R-squared** now.\n",
    "\n",
    "The R-squared variable is a relative measure that takes values from range $[0, 1]$. An R-squared of 0 means that your regression line explains none of the variability of the data. Conversely, an R-squared of 1 implies that your regression line explains all the variability of the data. But be careful now!\n",
    "\n",
    "In our simple linear regression model, we obtained an R-squared equal to 0.406. Is that a good result? Well, it may be. A low R-squared value implies that the SAT score is not enough to capture all the variability of our data. Other variables such as gender, income, and marital status could provide more information to our model."
   ]
  },
  {
   "cell_type": "markdown",
   "metadata": {},
   "source": [
    "## 3. Multiple linear regression"
   ]
  },
  {
   "cell_type": "markdown",
   "metadata": {},
   "source": [
    "In real-world problems, we need more than one variable to get a good accuracy score in our predictions. As we saw in the last section, the SAT score explained some variability of the dataset but it was not capable of capturing all its variation. \n",
    "\n",
    "Usually, we need to add two or more factors to our model in order to explain the variability of some processes. For instance, take the price of a house as a dependent variable of a regression model. We could use the size of the house as the independent variable but it won't capture all the variability of houses prices. A good choice would be to add its location, some additional information like the number of rooms, has or not a pool and so on...\n",
    "\n",
    "This would be an example of a _Multiple linear regression_. The linear regression equation is as follows:\n",
    "\n",
    "$$\\hat{y} = b_0 + b_1 x_1 + b_2 x_2 +...+ b_k x_k$$\n",
    "\n",
    "there isn't much to explain about this equation as it is only a generalization of the equation for a simple linear regression."
   ]
  },
  {
   "cell_type": "markdown",
   "metadata": {},
   "source": [
    "### How many variables are sufficient to our model? "
   ]
  },
  {
   "cell_type": "markdown",
   "metadata": {},
   "source": [
    "To answer this question, let's get our hands dirty with our first multiple linear regression model. Initially, we must load the dataset into the kernel."
   ]
  },
  {
   "cell_type": "code",
   "execution_count": 11,
   "metadata": {},
   "outputs": [],
   "source": [
    "path_name = r'C:\\Users\\alexa\\Documents\\Data Science Course - Bootcamp\\Regression Analysis\\datasets\\2. Multiple linear regression.csv'\n",
    "data = pd.read_csv(path_name)"
   ]
  },
  {
   "cell_type": "code",
   "execution_count": 12,
   "metadata": {},
   "outputs": [
    {
     "data": {
      "text/html": [
       "<div>\n",
       "<style scoped>\n",
       "    .dataframe tbody tr th:only-of-type {\n",
       "        vertical-align: middle;\n",
       "    }\n",
       "\n",
       "    .dataframe tbody tr th {\n",
       "        vertical-align: top;\n",
       "    }\n",
       "\n",
       "    .dataframe thead th {\n",
       "        text-align: right;\n",
       "    }\n",
       "</style>\n",
       "<table border=\"1\" class=\"dataframe\">\n",
       "  <thead>\n",
       "    <tr style=\"text-align: right;\">\n",
       "      <th></th>\n",
       "      <th>SAT</th>\n",
       "      <th>GPA</th>\n",
       "      <th>Rand 1,2,3</th>\n",
       "    </tr>\n",
       "  </thead>\n",
       "  <tbody>\n",
       "    <tr>\n",
       "      <th>0</th>\n",
       "      <td>1714</td>\n",
       "      <td>2.40</td>\n",
       "      <td>1</td>\n",
       "    </tr>\n",
       "    <tr>\n",
       "      <th>1</th>\n",
       "      <td>1664</td>\n",
       "      <td>2.52</td>\n",
       "      <td>3</td>\n",
       "    </tr>\n",
       "    <tr>\n",
       "      <th>2</th>\n",
       "      <td>1760</td>\n",
       "      <td>2.54</td>\n",
       "      <td>3</td>\n",
       "    </tr>\n",
       "    <tr>\n",
       "      <th>3</th>\n",
       "      <td>1685</td>\n",
       "      <td>2.74</td>\n",
       "      <td>3</td>\n",
       "    </tr>\n",
       "    <tr>\n",
       "      <th>4</th>\n",
       "      <td>1693</td>\n",
       "      <td>2.83</td>\n",
       "      <td>2</td>\n",
       "    </tr>\n",
       "  </tbody>\n",
       "</table>\n",
       "</div>"
      ],
      "text/plain": [
       "    SAT   GPA  Rand 1,2,3\n",
       "0  1714  2.40           1\n",
       "1  1664  2.52           3\n",
       "2  1760  2.54           3\n",
       "3  1685  2.74           3\n",
       "4  1693  2.83           2"
      ]
     },
     "execution_count": 12,
     "metadata": {},
     "output_type": "execute_result"
    }
   ],
   "source": [
    "data.head()"
   ]
  },
  {
   "cell_type": "markdown",
   "metadata": {},
   "source": [
    "As you can see, this time we'll be addressing the same problem of predict GPA score with the SAT score plus a random variable that ranges from 1 to 3. This random variable is useless to our model, as it explains none of the variability of the dependent variable. We just added it here to make a point. With that, the equation of our model is given by\n",
    "\n",
    "$$\\hat{y} = b_0 + b_1 x_1 + b_2 x_2$$"
   ]
  },
  {
   "cell_type": "code",
   "execution_count": 13,
   "metadata": {},
   "outputs": [],
   "source": [
    "y = data['GPA']\n",
    "x1 = data[['SAT', 'Rand 1,2,3']]"
   ]
  },
  {
   "cell_type": "code",
   "execution_count": 14,
   "metadata": {},
   "outputs": [],
   "source": [
    "x = sm.add_constant(x1)"
   ]
  },
  {
   "cell_type": "code",
   "execution_count": 15,
   "metadata": {},
   "outputs": [
    {
     "data": {
      "text/html": [
       "<table class=\"simpletable\">\n",
       "<caption>OLS Regression Results</caption>\n",
       "<tr>\n",
       "  <th>Dep. Variable:</th>           <td>GPA</td>       <th>  R-squared:         </th> <td>   0.407</td>\n",
       "</tr>\n",
       "<tr>\n",
       "  <th>Model:</th>                   <td>OLS</td>       <th>  Adj. R-squared:    </th> <td>   0.392</td>\n",
       "</tr>\n",
       "<tr>\n",
       "  <th>Method:</th>             <td>Least Squares</td>  <th>  F-statistic:       </th> <td>   27.76</td>\n",
       "</tr>\n",
       "<tr>\n",
       "  <th>Date:</th>             <td>Thu, 14 Feb 2019</td> <th>  Prob (F-statistic):</th> <td>6.58e-10</td>\n",
       "</tr>\n",
       "<tr>\n",
       "  <th>Time:</th>                 <td>16:50:04</td>     <th>  Log-Likelihood:    </th> <td>  12.720</td>\n",
       "</tr>\n",
       "<tr>\n",
       "  <th>No. Observations:</th>      <td>    84</td>      <th>  AIC:               </th> <td>  -19.44</td>\n",
       "</tr>\n",
       "<tr>\n",
       "  <th>Df Residuals:</th>          <td>    81</td>      <th>  BIC:               </th> <td>  -12.15</td>\n",
       "</tr>\n",
       "<tr>\n",
       "  <th>Df Model:</th>              <td>     2</td>      <th>                     </th>     <td> </td>   \n",
       "</tr>\n",
       "<tr>\n",
       "  <th>Covariance Type:</th>      <td>nonrobust</td>    <th>                     </th>     <td> </td>   \n",
       "</tr>\n",
       "</table>\n",
       "<table class=\"simpletable\">\n",
       "<tr>\n",
       "       <td></td>         <th>coef</th>     <th>std err</th>      <th>t</th>      <th>P>|t|</th>  <th>[0.025</th>    <th>0.975]</th>  \n",
       "</tr>\n",
       "<tr>\n",
       "  <th>const</th>      <td>    0.2960</td> <td>    0.417</td> <td>    0.710</td> <td> 0.480</td> <td>   -0.533</td> <td>    1.125</td>\n",
       "</tr>\n",
       "<tr>\n",
       "  <th>SAT</th>        <td>    0.0017</td> <td>    0.000</td> <td>    7.432</td> <td> 0.000</td> <td>    0.001</td> <td>    0.002</td>\n",
       "</tr>\n",
       "<tr>\n",
       "  <th>Rand 1,2,3</th> <td>   -0.0083</td> <td>    0.027</td> <td>   -0.304</td> <td> 0.762</td> <td>   -0.062</td> <td>    0.046</td>\n",
       "</tr>\n",
       "</table>\n",
       "<table class=\"simpletable\">\n",
       "<tr>\n",
       "  <th>Omnibus:</th>       <td>12.992</td> <th>  Durbin-Watson:     </th> <td>   0.948</td>\n",
       "</tr>\n",
       "<tr>\n",
       "  <th>Prob(Omnibus):</th> <td> 0.002</td> <th>  Jarque-Bera (JB):  </th> <td>  16.364</td>\n",
       "</tr>\n",
       "<tr>\n",
       "  <th>Skew:</th>          <td>-0.731</td> <th>  Prob(JB):          </th> <td>0.000280</td>\n",
       "</tr>\n",
       "<tr>\n",
       "  <th>Kurtosis:</th>      <td> 4.594</td> <th>  Cond. No.          </th> <td>3.33e+04</td>\n",
       "</tr>\n",
       "</table><br/><br/>Warnings:<br/>[1] Standard Errors assume that the covariance matrix of the errors is correctly specified.<br/>[2] The condition number is large, 3.33e+04. This might indicate that there are<br/>strong multicollinearity or other numerical problems."
      ],
      "text/plain": [
       "<class 'statsmodels.iolib.summary.Summary'>\n",
       "\"\"\"\n",
       "                            OLS Regression Results                            \n",
       "==============================================================================\n",
       "Dep. Variable:                    GPA   R-squared:                       0.407\n",
       "Model:                            OLS   Adj. R-squared:                  0.392\n",
       "Method:                 Least Squares   F-statistic:                     27.76\n",
       "Date:                Thu, 14 Feb 2019   Prob (F-statistic):           6.58e-10\n",
       "Time:                        16:50:04   Log-Likelihood:                 12.720\n",
       "No. Observations:                  84   AIC:                            -19.44\n",
       "Df Residuals:                      81   BIC:                            -12.15\n",
       "Df Model:                           2                                         \n",
       "Covariance Type:            nonrobust                                         \n",
       "==============================================================================\n",
       "                 coef    std err          t      P>|t|      [0.025      0.975]\n",
       "------------------------------------------------------------------------------\n",
       "const          0.2960      0.417      0.710      0.480      -0.533       1.125\n",
       "SAT            0.0017      0.000      7.432      0.000       0.001       0.002\n",
       "Rand 1,2,3    -0.0083      0.027     -0.304      0.762      -0.062       0.046\n",
       "==============================================================================\n",
       "Omnibus:                       12.992   Durbin-Watson:                   0.948\n",
       "Prob(Omnibus):                  0.002   Jarque-Bera (JB):               16.364\n",
       "Skew:                          -0.731   Prob(JB):                     0.000280\n",
       "Kurtosis:                       4.594   Cond. No.                     3.33e+04\n",
       "==============================================================================\n",
       "\n",
       "Warnings:\n",
       "[1] Standard Errors assume that the covariance matrix of the errors is correctly specified.\n",
       "[2] The condition number is large, 3.33e+04. This might indicate that there are\n",
       "strong multicollinearity or other numerical problems.\n",
       "\"\"\""
      ]
     },
     "execution_count": 15,
     "metadata": {},
     "output_type": "execute_result"
    }
   ],
   "source": [
    "results = sm.OLS(y,x).fit()\n",
    "results.summary()"
   ]
  },
  {
   "cell_type": "markdown",
   "metadata": {},
   "source": [
    "Let's compare the results obtained for this model and our first model. Below, we have a table showing a comparison between the R-squared values of each model and also the Adjusted R-squared.\n",
    "______________________________________________________\n",
    "| Measure      | Simple lin. reg.| Multiple lin. reg |\n",
    "|--------------|-----------------|-------------------|\n",
    "| R-squared    |0.406            | 0.407             |\n",
    "|Adj. R-squared|0.399            | 0.392             |\n",
    "\n",
    "Look how the R-squared almost changed nothing in both cases, this implies that the addition of the _random_ independent variable did not improve the explanatory power of our model. On the other hand, we have an even more interesting result when looking at the Adj. R-squared variable.\n",
    "\n",
    "The **Adjusted R-squared** variable is always less than the R-squared. It **penalizes excessive use of variables in the models that have no strong explanatory power**. We will not dig deeper into the mathematical details about the Adj. R-squared. However, look at how the value for the Multiple lin. reg. model is lower than for the Simple lin. reg., this is evidence that the addition of the _random_ variable is not significant to our model.\n",
    "\n",
    "Indeed, in a more accurate analysis, if you look at the Coefficients Table it becomes clear that the _random_ variable is useless to our model. It has a $p-value = 0.762$, meaning that we cannot reject the null hypothesis ($H_0 : b_2 = 0$) at a 76% significance level. This is incredibly high!\n",
    "\n",
    "Another tool that allows us comparing models is the **F-statistic**. The F-statistic follows an [F-distribution](https://en.wikipedia.org/wiki/F-distribution). In other words, there is a hypothesis test here! The test is known for the overall significance of the model. The Null Hypothesis is $H_0 : b_0 = b_1 =$ ... $= b_n = 0$ and the alternative hypothesis is $H_1 : b_i \\neq 0$, that is, at least one coefficient is different from zero. \n",
    "\n",
    "**What is the interpretation?** if all $b$'s are zero, then none of the independent variables matter. Therefore, our model has no merit. See the comparison between the F-statistic and its p-value for the two models.\n",
    "\n",
    "___________________________________________________________\n",
    "| Measure           | Simple lin. reg.| Multiple lin. reg |\n",
    "|-------------------|-----------------|-------------------|\n",
    "| F-statistic       |56.05            | 27.76             |\n",
    "|Prob (F-statistic) |7.20e-11         | 6.58e-10          |\n",
    "\n",
    "The p-value of the F-statistic for both models is virtually zero, meaning that our model significantly explains the variability of the data. On the other hand, the F-statistic for the Multiple linear regression is half the value. The lower the F-statistic, the closer to a non-significant model.\n",
    "\n",
    "The point is: cherry pick your data when performing a linear regression. Adding new variables does not necessarily implies  increasing the explainability power of the model."
   ]
  },
  {
   "cell_type": "markdown",
   "metadata": {},
   "source": [
    "#### Simplifying the procedure"
   ]
  },
  {
   "cell_type": "markdown",
   "metadata": {},
   "source": [
    "Now that we have built two regression models you may have noticed that the implementation is very simple. Therefore, we will use this space to define a function to perform the linear regression using stats models in order to avoid code repeatability later on."
   ]
  },
  {
   "cell_type": "code",
   "execution_count": 16,
   "metadata": {},
   "outputs": [],
   "source": [
    "def linear_reg(x1, y):\n",
    "    x = sm.add_constant(x1)\n",
    "    results = sm.OLS(y, x).fit()\n",
    "    return results"
   ]
  },
  {
   "cell_type": "markdown",
   "metadata": {},
   "source": [
    "## 4. Assumptions for Linear Regression"
   ]
  },
  {
   "cell_type": "markdown",
   "metadata": {},
   "source": [
    "So far, we introduced quite a few notions about regression. Still, for which cases can we perform a linear regression? This section aims to answer this question. As the purpose of this kernel is to provide a better understanding of regression, it is important for you not to skip this section. It is important to know all the regression assumptions and consider them before you perform regression analysis. The regression assumptions are:\n",
    "\n",
    "    1. Linearity\n",
    "    2. No endogeneity\n",
    "    3. Normality and homoscedasticity\n",
    "    4. No autocorrelation\n",
    "    5. No multicolinearity\n",
    "\n",
    "All these assumptions will be explained in the next sections."
   ]
  },
  {
   "cell_type": "markdown",
   "metadata": {},
   "source": [
    "### 4.1 Linearity"
   ]
  },
  {
   "cell_type": "markdown",
   "metadata": {},
   "source": [
    "The linear regression is the simplest non-trivial relationship. It is called linear because the regression equation is linear! How can you verify if the relation between two variables is linear?\n",
    "\n",
    "The easiest way is to choose an independent variable and plot it against the dependent variable on a scatter plot just like the SAT _vs._ GPA plot\n",
    "\n",
    "<img src=\"images\\linear curve.png\">\n",
    "\n",
    "On the other hand, examine the following plot. There is no straight line that can fit appropriately to the data points. In this case, a curve line expresses more accurately the data variability. Therefore, it is not recommended to perform a linear regression to this data.\n",
    "\n",
    "<img src=\"images\\quadratic curve.png\">\n",
    "\n",
    "There are easy ways to fix non-linearity such as\n",
    "\n",
    "    1. Run a non-linear regression\n",
    "    2. Apply and exponential transformation\n",
    "    3. Apply a logarithmical transformation\n",
    "    \n",
    "As we are just highlighting the Linear regression assumptions, we will not explore these tools here. What you need to know is that whenever you intend to perform a linear regression, try to see if it is possible! \n",
    "\n",
    "If the data can not be fitted by a straight line, try to make a transformation and then perform linear regression!"
   ]
  },
  {
   "cell_type": "markdown",
   "metadata": {},
   "source": [
    "### 4.2 No endogeneity"
   ]
  },
  {
   "cell_type": "markdown",
   "metadata": {},
   "source": [
    "The second assumption is the so-called no endogeneity of regressors. It refers to the prohibition of a link between independent variables and the errors. Mathematically expressed by the following equation\n",
    "\n",
    "$$ \\sigma_{X\\epsilon} = 0 : \\forall x, \\epsilon$$\n",
    "\n",
    "This equation is telling us that the error (the difference between the observed and the predicted values) must not be correlated with any independent variables. This is a problem referred to as **omitted variable bias**. This problem arises when we forget to include a crucial variable in the model. Consider the following case:\n",
    "\n",
    "the $y$ variable is explained by the $x$ variable and also by a $x^{*}$ variable that was omitted in the model. Chances are that $x$ is correlated to $x^{*}$. However, we did not include it as a regressor. Everything that is not explained by the model goes into the error. So, actually, the error becomes correlated with everything else.\n",
    "______\n",
    "\n",
    "Let's try another example. Suppose we are trying to predict the price, $y$, of an apartment building, in central New York City by using only its size, $x$, as a regressor. Then, we obtained the following equation from the model:\n",
    "\n",
    "$$y = 890345 - 48947 x$$\n",
    "\n",
    "The yielded result is extremely counterintuitive as we expect that the higher the price, the more expensive the apartment. Therefore, as x (the apartment size) increases, its value decreases. This implies that the covariance between the independent variable and the error is different from zero ($\\sigma_{X\\epsilon} \\neq 0$). Critical thinking time! you can ask yourself questions like:\n",
    "\n",
    "    1. Where do I draw the sample from?\n",
    "    2. Can I get a better sample?\n",
    "    3. Why is bigger real estate cheaper?\n",
    "    \n",
    "Let's consider the following: The sample comprises apartment buildings in central New York and is large enough so the problem is not with the sample. Remember that we are in New York! The place with some of the most valuable real estate in the world! we omitted the exact location as a variable. In almost any other city, this factor would not be such a huge headache for us. But, in our particular example, the million dollar suits in the city of New York turn things around. After we add this variable we may get a result like:\n",
    "\n",
    "$$y = 54209 + 37892 x_{size} + 78234 x_{city}$$\n",
    "\n",
    "which looks amazing! Larger properties are more expensive!\n",
    "\n",
    "The lesson here is: advanced knowledge in the subject is helpful! If you do not understand your problem, you can fall into the endogeneity problem."
   ]
  },
  {
   "cell_type": "markdown",
   "metadata": {},
   "source": [
    "### 4.3 Normality and Homoscedasticity"
   ]
  },
  {
   "cell_type": "markdown",
   "metadata": {},
   "source": [
    "The third assumption can expressed by the equation $\\epsilon \\sim N(0, \\sigma^2)$. Derived from the equation, the third assumption comprises three parts:\n",
    "\n",
    "   1. **Normality**: \n",
    "    We assume the error term is normally distributed. Normal distribution is not required for making a regression but for making inferences. Remember that the t-statistics and the F-statistics apply only when the error is normally distributed. \n",
    "    \n",
    "Note that a possible solution for this problem is to apply the central limit theorem.\n",
    "    \n",
    "   2. **Zero Mean**:\n",
    "    If the error mean is not expected to be zero, then a line will not yield a good fitting. However, having an intercept solves that problem. So, in real life, it is unusual to violate this part of the assumption.\n",
    "        \n",
    "   3. **Homoscedasticity**: \n",
    "    This part means that the error must have equal variance. Put in another way,\n",
    "    \n",
    "$$\\sigma^2 _{\\epsilon_1} = \\sigma^2 _{\\epsilon_2} =  ... = \\sigma^2 _{\\epsilon_n} = 0$$\n",
    "\n",
    "   What if there is a pattern in the error variance? We will discuss more about this topic as it is a bit more confusing than the others."
   ]
  },
  {
   "cell_type": "markdown",
   "metadata": {},
   "source": [
    "_____________________________\n",
    "#### 4.3.1 Homoscedasticity _vs_ Heteroscedasticity: How to detect and visualize"
   ]
  },
  {
   "cell_type": "markdown",
   "metadata": {},
   "source": [
    "We will go through an example in order to clarify what is Homoscedasticity and Heteroscedasticity. We'll use an example of a cross-sectional study to model the number of automobile accidents by the population of towns and cities. The data is purely fictional but it correct illustrates the problem. This example is based on the article [Heteroscedasticity in Regression Analysis](http://statisticsbyjim.com/regression/heteroscedasticity-regression/) found in [Statistics by Jim](http://statisticsbyjim.com/)."
   ]
  },
  {
   "cell_type": "code",
   "execution_count": 17,
   "metadata": {},
   "outputs": [],
   "source": [
    "# Import the data\n",
    "path_name = r'C:\\Users\\alexa\\Documents\\Data Science Course - Bootcamp\\Regression Analysis\\datasets\\Heteroscedasticity.csv'\n",
    "heter_data = pd.read_csv(path_name)"
   ]
  },
  {
   "cell_type": "code",
   "execution_count": 18,
   "metadata": {},
   "outputs": [
    {
     "data": {
      "text/html": [
       "<div>\n",
       "<style scoped>\n",
       "    .dataframe tbody tr th:only-of-type {\n",
       "        vertical-align: middle;\n",
       "    }\n",
       "\n",
       "    .dataframe tbody tr th {\n",
       "        vertical-align: top;\n",
       "    }\n",
       "\n",
       "    .dataframe thead th {\n",
       "        text-align: right;\n",
       "    }\n",
       "</style>\n",
       "<table border=\"1\" class=\"dataframe\">\n",
       "  <thead>\n",
       "    <tr style=\"text-align: right;\">\n",
       "      <th></th>\n",
       "      <th>Accidents</th>\n",
       "      <th>AccidentRate</th>\n",
       "      <th>Population</th>\n",
       "      <th>Weight</th>\n",
       "    </tr>\n",
       "  </thead>\n",
       "  <tbody>\n",
       "    <tr>\n",
       "      <th>0</th>\n",
       "      <td>20</td>\n",
       "      <td>0.000135</td>\n",
       "      <td>147603.989041</td>\n",
       "      <td>0.000007</td>\n",
       "    </tr>\n",
       "    <tr>\n",
       "      <th>1</th>\n",
       "      <td>38</td>\n",
       "      <td>0.000062</td>\n",
       "      <td>611903.157933</td>\n",
       "      <td>0.000002</td>\n",
       "    </tr>\n",
       "    <tr>\n",
       "      <th>2</th>\n",
       "      <td>17</td>\n",
       "      <td>0.000120</td>\n",
       "      <td>141304.462040</td>\n",
       "      <td>0.000007</td>\n",
       "    </tr>\n",
       "    <tr>\n",
       "      <th>3</th>\n",
       "      <td>16</td>\n",
       "      <td>0.000078</td>\n",
       "      <td>204849.503667</td>\n",
       "      <td>0.000005</td>\n",
       "    </tr>\n",
       "    <tr>\n",
       "      <th>4</th>\n",
       "      <td>20</td>\n",
       "      <td>0.000131</td>\n",
       "      <td>152426.475662</td>\n",
       "      <td>0.000007</td>\n",
       "    </tr>\n",
       "  </tbody>\n",
       "</table>\n",
       "</div>"
      ],
      "text/plain": [
       "   Accidents  AccidentRate     Population    Weight\n",
       "0         20      0.000135  147603.989041  0.000007\n",
       "1         38      0.000062  611903.157933  0.000002\n",
       "2         17      0.000120  141304.462040  0.000007\n",
       "3         16      0.000078  204849.503667  0.000005\n",
       "4         20      0.000131  152426.475662  0.000007"
      ]
     },
     "execution_count": 18,
     "metadata": {},
     "output_type": "execute_result"
    }
   ],
   "source": [
    "# Explore the data\n",
    "heter_data.head()"
   ]
  },
  {
   "cell_type": "markdown",
   "metadata": {},
   "source": [
    "For simplification, we'll perform a Simple Linear regression in which the Population is the independent variable and the number of Accidents is dependent variable."
   ]
  },
  {
   "cell_type": "code",
   "execution_count": 19,
   "metadata": {},
   "outputs": [],
   "source": [
    "x1 = heter_data['Population']\n",
    "y = heter_data['Accidents']"
   ]
  },
  {
   "cell_type": "code",
   "execution_count": 20,
   "metadata": {},
   "outputs": [
    {
     "data": {
      "text/plain": [
       "Text(0, 0.5, 'Accidents')"
      ]
     },
     "execution_count": 20,
     "metadata": {},
     "output_type": "execute_result"
    },
    {
     "data": {
      "image/png": "[encoded data removed]",
      "text/plain": [
       "<Figure size 432x288 with 1 Axes>"
      ]
     },
     "metadata": {
      "needs_background": "light"
     },
     "output_type": "display_data"
    }
   ],
   "source": [
    "plt.scatter(x1,y)\n",
    "plt.xlabel('Population')\n",
    "plt.ylabel('Accidents')"
   ]
  },
  {
   "cell_type": "code",
   "execution_count": 21,
   "metadata": {},
   "outputs": [
    {
     "data": {
      "text/html": [
       "<table class=\"simpletable\">\n",
       "<caption>OLS Regression Results</caption>\n",
       "<tr>\n",
       "  <th>Dep. Variable:</th>        <td>Accidents</td>    <th>  R-squared:         </th> <td>   0.858</td>\n",
       "</tr>\n",
       "<tr>\n",
       "  <th>Model:</th>                   <td>OLS</td>       <th>  Adj. R-squared:    </th> <td>   0.856</td>\n",
       "</tr>\n",
       "<tr>\n",
       "  <th>Method:</th>             <td>Least Squares</td>  <th>  F-statistic:       </th> <td>   632.4</td>\n",
       "</tr>\n",
       "<tr>\n",
       "  <th>Date:</th>             <td>Thu, 14 Feb 2019</td> <th>  Prob (F-statistic):</th> <td>3.03e-46</td>\n",
       "</tr>\n",
       "<tr>\n",
       "  <th>Time:</th>                 <td>16:50:05</td>     <th>  Log-Likelihood:    </th> <td> -360.32</td>\n",
       "</tr>\n",
       "<tr>\n",
       "  <th>No. Observations:</th>      <td>   107</td>      <th>  AIC:               </th> <td>   724.6</td>\n",
       "</tr>\n",
       "<tr>\n",
       "  <th>Df Residuals:</th>          <td>   105</td>      <th>  BIC:               </th> <td>   730.0</td>\n",
       "</tr>\n",
       "<tr>\n",
       "  <th>Df Model:</th>              <td>     1</td>      <th>                     </th>     <td> </td>   \n",
       "</tr>\n",
       "<tr>\n",
       "  <th>Covariance Type:</th>      <td>nonrobust</td>    <th>                     </th>     <td> </td>   \n",
       "</tr>\n",
       "</table>\n",
       "<table class=\"simpletable\">\n",
       "<tr>\n",
       "       <td></td>         <th>coef</th>     <th>std err</th>      <th>t</th>      <th>P>|t|</th>  <th>[0.025</th>    <th>0.975]</th>  \n",
       "</tr>\n",
       "<tr>\n",
       "  <th>const</th>      <td>    5.8219</td> <td>    1.313</td> <td>    4.434</td> <td> 0.000</td> <td>    3.219</td> <td>    8.425</td>\n",
       "</tr>\n",
       "<tr>\n",
       "  <th>Population</th> <td> 7.186e-05</td> <td> 2.86e-06</td> <td>   25.147</td> <td> 0.000</td> <td> 6.62e-05</td> <td> 7.75e-05</td>\n",
       "</tr>\n",
       "</table>\n",
       "<table class=\"simpletable\">\n",
       "<tr>\n",
       "  <th>Omnibus:</th>       <td> 0.310</td> <th>  Durbin-Watson:     </th> <td>   1.814</td>\n",
       "</tr>\n",
       "<tr>\n",
       "  <th>Prob(Omnibus):</th> <td> 0.856</td> <th>  Jarque-Bera (JB):  </th> <td>   0.066</td>\n",
       "</tr>\n",
       "<tr>\n",
       "  <th>Skew:</th>          <td> 0.031</td> <th>  Prob(JB):          </th> <td>   0.968</td>\n",
       "</tr>\n",
       "<tr>\n",
       "  <th>Kurtosis:</th>      <td> 3.104</td> <th>  Cond. No.          </th> <td>8.81e+05</td>\n",
       "</tr>\n",
       "</table><br/><br/>Warnings:<br/>[1] Standard Errors assume that the covariance matrix of the errors is correctly specified.<br/>[2] The condition number is large, 8.81e+05. This might indicate that there are<br/>strong multicollinearity or other numerical problems."
      ],
      "text/plain": [
       "<class 'statsmodels.iolib.summary.Summary'>\n",
       "\"\"\"\n",
       "                            OLS Regression Results                            \n",
       "==============================================================================\n",
       "Dep. Variable:              Accidents   R-squared:                       0.858\n",
       "Model:                            OLS   Adj. R-squared:                  0.856\n",
       "Method:                 Least Squares   F-statistic:                     632.4\n",
       "Date:                Thu, 14 Feb 2019   Prob (F-statistic):           3.03e-46\n",
       "Time:                        16:50:05   Log-Likelihood:                -360.32\n",
       "No. Observations:                 107   AIC:                             724.6\n",
       "Df Residuals:                     105   BIC:                             730.0\n",
       "Df Model:                           1                                         \n",
       "Covariance Type:            nonrobust                                         \n",
       "==============================================================================\n",
       "                 coef    std err          t      P>|t|      [0.025      0.975]\n",
       "------------------------------------------------------------------------------\n",
       "const          5.8219      1.313      4.434      0.000       3.219       8.425\n",
       "Population  7.186e-05   2.86e-06     25.147      0.000    6.62e-05    7.75e-05\n",
       "==============================================================================\n",
       "Omnibus:                        0.310   Durbin-Watson:                   1.814\n",
       "Prob(Omnibus):                  0.856   Jarque-Bera (JB):                0.066\n",
       "Skew:                           0.031   Prob(JB):                        0.968\n",
       "Kurtosis:                       3.104   Cond. No.                     8.81e+05\n",
       "==============================================================================\n",
       "\n",
       "Warnings:\n",
       "[1] Standard Errors assume that the covariance matrix of the errors is correctly specified.\n",
       "[2] The condition number is large, 8.81e+05. This might indicate that there are\n",
       "strong multicollinearity or other numerical problems.\n",
       "\"\"\""
      ]
     },
     "execution_count": 21,
     "metadata": {},
     "output_type": "execute_result"
    }
   ],
   "source": [
    "results = linear_reg(x1, y)\n",
    "results.summary()"
   ]
  },
  {
   "cell_type": "code",
   "execution_count": 22,
   "metadata": {},
   "outputs": [
    {
     "data": {
      "image/png": "[encoded data removed]",
      "text/plain": [
       "<Figure size 432x288 with 1 Axes>"
      ]
     },
     "metadata": {
      "needs_background": "light"
     },
     "output_type": "display_data"
    }
   ],
   "source": [
    "plt.scatter(x1,y)\n",
    "y_hat = 5.8219 + 0.00007186*x1\n",
    "fig5 = plt.plot(x1,y_hat, lw=2, c='orange', label = 'regression line')\n",
    "\n",
    "upper_line = 5.8219 + (0.00007186 + 0.0000286)*x1\n",
    "fig6 = plt.plot(x1,upper_line, lw=1, c='red', label = 'Upper line')\n",
    "\n",
    "lower_line = 5.8219 + (0.00007186 - 0.0000286)*x1\n",
    "fig7 = plt.plot(x1,lower_line, lw=1, c='red', label = 'Lower line')\n",
    "\n",
    "plt.xlabel('Population', fontsize = 20)\n",
    "plt.ylabel('Accidents', fontsize = 20)\n",
    "plt.show()"
   ]
  },
  {
   "cell_type": "markdown",
   "metadata": {},
   "source": [
    "Look at this plot and compare it to the one in section 2. In this plot, the data spreads as we walk from left to right in the x-axis. Following the regression line, it becomes clear that the error is increasing as the population increases. This is a clear signal of _Heteroscedasticity_.\n",
    "\n",
    "Another way to check for Heteroscedasticity is assessing the residuals by the fitted values plot. Heteroscedasticity produces a distinctive fan or cone shape in residual plots. The following plot provides us the information we need. Again, we can see that the error variance is different from zero."
   ]
  },
  {
   "cell_type": "code",
   "execution_count": 23,
   "metadata": {},
   "outputs": [
    {
     "data": {
      "text/plain": [
       "<matplotlib.axes._subplots.AxesSubplot at 0x192167967b8>"
      ]
     },
     "execution_count": 23,
     "metadata": {},
     "output_type": "execute_result"
    },
    {
     "data": {
      "image/png": "[encoded data removed]",
      "text/plain": [
       "<Figure size 432x288 with 1 Axes>"
      ]
     },
     "metadata": {
      "needs_background": "light"
     },
     "output_type": "display_data"
    }
   ],
   "source": [
    "sns.residplot(x1, y, lowess=True, color=\"g\")"
   ]
  },
  {
   "cell_type": "markdown",
   "metadata": {},
   "source": [
    "#### 4.3.2 Fixing heteroskedasticity"
   ]
  },
  {
   "cell_type": "markdown",
   "metadata": {},
   "source": [
    "There are many ways to perform data transformation in order to achieve Homoscedasticity and get better regressions. We will not study all of them here as they are not in the scope of this kernel. If you wish to dig deeper into Heteroscedasticity, I recommend this [link](http://statisticsbyjim.com/regression/heteroscedasticity-regression/).\n",
    "\n",
    "We can circumvent heteroscedasticity by checking for omitted variables. This is always a good idea! After that, you can look for outliers and try to remove them. Finally, we can apply a **logarithmical transformation** to the data.\n",
    "\n",
    "For each observation in the dependent variable, calculate its natural log and then create a regression between the log of $y$ and the independent $x$'s. Conversely, you can take the $x$ variable that is causing the trouble and do the same. Let's see an example.\n",
    "\n",
    "Initially, taking into account the last regression. The population (**x-axis**) data seemed to be largely responsible for the heteroscedasciticity. Being so, let's apply a logarithmical transformation to the population data and check our new results."
   ]
  },
  {
   "cell_type": "markdown",
   "metadata": {},
   "source": [
    "#### Semi-log Model"
   ]
  },
  {
   "cell_type": "code",
   "execution_count": 24,
   "metadata": {},
   "outputs": [],
   "source": [
    "# Applying logarithmical Transformation\n",
    "heter_data['log_population'] = np.log(heter_data['Population'])"
   ]
  },
  {
   "cell_type": "code",
   "execution_count": 25,
   "metadata": {},
   "outputs": [],
   "source": [
    "x1 = heter_data['log_population']\n",
    "y = heter_data['Accidents']"
   ]
  },
  {
   "cell_type": "code",
   "execution_count": 26,
   "metadata": {},
   "outputs": [
    {
     "data": {
      "text/html": [
       "<table class=\"simpletable\">\n",
       "<caption>OLS Regression Results</caption>\n",
       "<tr>\n",
       "  <th>Dep. Variable:</th>        <td>Accidents</td>    <th>  R-squared:         </th> <td>   0.818</td>\n",
       "</tr>\n",
       "<tr>\n",
       "  <th>Model:</th>                   <td>OLS</td>       <th>  Adj. R-squared:    </th> <td>   0.817</td>\n",
       "</tr>\n",
       "<tr>\n",
       "  <th>Method:</th>             <td>Least Squares</td>  <th>  F-statistic:       </th> <td>   472.9</td>\n",
       "</tr>\n",
       "<tr>\n",
       "  <th>Date:</th>             <td>Thu, 14 Feb 2019</td> <th>  Prob (F-statistic):</th> <td>1.12e-40</td>\n",
       "</tr>\n",
       "<tr>\n",
       "  <th>Time:</th>                 <td>16:50:06</td>     <th>  Log-Likelihood:    </th> <td> -373.36</td>\n",
       "</tr>\n",
       "<tr>\n",
       "  <th>No. Observations:</th>      <td>   107</td>      <th>  AIC:               </th> <td>   750.7</td>\n",
       "</tr>\n",
       "<tr>\n",
       "  <th>Df Residuals:</th>          <td>   105</td>      <th>  BIC:               </th> <td>   756.1</td>\n",
       "</tr>\n",
       "<tr>\n",
       "  <th>Df Model:</th>              <td>     1</td>      <th>                     </th>     <td> </td>   \n",
       "</tr>\n",
       "<tr>\n",
       "  <th>Covariance Type:</th>      <td>nonrobust</td>    <th>                     </th>     <td> </td>   \n",
       "</tr>\n",
       "</table>\n",
       "<table class=\"simpletable\">\n",
       "<tr>\n",
       "         <td></td>           <th>coef</th>     <th>std err</th>      <th>t</th>      <th>P>|t|</th>  <th>[0.025</th>    <th>0.975]</th>  \n",
       "</tr>\n",
       "<tr>\n",
       "  <th>const</th>          <td> -259.6523</td> <td>   13.526</td> <td>  -19.197</td> <td> 0.000</td> <td> -286.471</td> <td> -232.833</td>\n",
       "</tr>\n",
       "<tr>\n",
       "  <th>log_population</th> <td>   23.2110</td> <td>    1.067</td> <td>   21.746</td> <td> 0.000</td> <td>   21.095</td> <td>   25.327</td>\n",
       "</tr>\n",
       "</table>\n",
       "<table class=\"simpletable\">\n",
       "<tr>\n",
       "  <th>Omnibus:</th>       <td>12.211</td> <th>  Durbin-Watson:     </th> <td>   1.843</td>\n",
       "</tr>\n",
       "<tr>\n",
       "  <th>Prob(Omnibus):</th> <td> 0.002</td> <th>  Jarque-Bera (JB):  </th> <td>  13.415</td>\n",
       "</tr>\n",
       "<tr>\n",
       "  <th>Skew:</th>          <td> 0.701</td> <th>  Prob(JB):          </th> <td> 0.00122</td>\n",
       "</tr>\n",
       "<tr>\n",
       "  <th>Kurtosis:</th>      <td> 4.022</td> <th>  Cond. No.          </th> <td>    223.</td>\n",
       "</tr>\n",
       "</table><br/><br/>Warnings:<br/>[1] Standard Errors assume that the covariance matrix of the errors is correctly specified."
      ],
      "text/plain": [
       "<class 'statsmodels.iolib.summary.Summary'>\n",
       "\"\"\"\n",
       "                            OLS Regression Results                            \n",
       "==============================================================================\n",
       "Dep. Variable:              Accidents   R-squared:                       0.818\n",
       "Model:                            OLS   Adj. R-squared:                  0.817\n",
       "Method:                 Least Squares   F-statistic:                     472.9\n",
       "Date:                Thu, 14 Feb 2019   Prob (F-statistic):           1.12e-40\n",
       "Time:                        16:50:06   Log-Likelihood:                -373.36\n",
       "No. Observations:                 107   AIC:                             750.7\n",
       "Df Residuals:                     105   BIC:                             756.1\n",
       "Df Model:                           1                                         \n",
       "Covariance Type:            nonrobust                                         \n",
       "==================================================================================\n",
       "                     coef    std err          t      P>|t|      [0.025      0.975]\n",
       "----------------------------------------------------------------------------------\n",
       "const           -259.6523     13.526    -19.197      0.000    -286.471    -232.833\n",
       "log_population    23.2110      1.067     21.746      0.000      21.095      25.327\n",
       "==============================================================================\n",
       "Omnibus:                       12.211   Durbin-Watson:                   1.843\n",
       "Prob(Omnibus):                  0.002   Jarque-Bera (JB):               13.415\n",
       "Skew:                           0.701   Prob(JB):                      0.00122\n",
       "Kurtosis:                       4.022   Cond. No.                         223.\n",
       "==============================================================================\n",
       "\n",
       "Warnings:\n",
       "[1] Standard Errors assume that the covariance matrix of the errors is correctly specified.\n",
       "\"\"\""
      ]
     },
     "execution_count": 26,
     "metadata": {},
     "output_type": "execute_result"
    }
   ],
   "source": [
    "results = linear_reg(x1, y)\n",
    "results.summary()"
   ]
  },
  {
   "cell_type": "code",
   "execution_count": 27,
   "metadata": {},
   "outputs": [
    {
     "data": {
      "image/png": "[encoded data removed]",
      "text/plain": [
       "<Figure size 432x288 with 1 Axes>"
      ]
     },
     "metadata": {
      "needs_background": "light"
     },
     "output_type": "display_data"
    }
   ],
   "source": [
    "plt.scatter(x1,y)\n",
    "\n",
    "y_hat = -259.6523 + 23.2110*x1\n",
    "fig8 = plt.plot(x1,y_hat, lw=2, c='orange', label = 'regression line')\n",
    "\n",
    "plt.xlabel('Log Population', fontsize = 20)\n",
    "plt.ylabel('Accidents', fontsize = 20)\n",
    "plt.show()"
   ]
  },
  {
   "cell_type": "code",
   "execution_count": 28,
   "metadata": {},
   "outputs": [
    {
     "data": {
      "text/plain": [
       "<matplotlib.axes._subplots.AxesSubplot at 0x19216cc0f60>"
      ]
     },
     "execution_count": 28,
     "metadata": {},
     "output_type": "execute_result"
    },
    {
     "data": {
      "image/png": "[encoded data removed]",
      "text/plain": [
       "<Figure size 432x288 with 1 Axes>"
      ]
     },
     "metadata": {
      "needs_background": "light"
     },
     "output_type": "display_data"
    }
   ],
   "source": [
    "sns.residplot(x1, y, lowess=True, color=\"g\")"
   ]
  },
  {
   "cell_type": "markdown",
   "metadata": {},
   "source": [
    "Fantastic! Clearly, we improved our model performance. The new model is called a **Semi-log model** and is expressed by the equation \n",
    "\n",
    "$$\\hat{y} = b_0 + b_1 \\log(x)$$\n",
    "\n",
    "We can also apply a transformation to the **y-axis** and see if there is an improvement in our model. Let's do it!"
   ]
  },
  {
   "cell_type": "markdown",
   "metadata": {},
   "source": [
    "#### log-log model"
   ]
  },
  {
   "cell_type": "code",
   "execution_count": 29,
   "metadata": {},
   "outputs": [],
   "source": [
    "heter_data['log_accidents'] = np.log(heter_data['Accidents'])"
   ]
  },
  {
   "cell_type": "code",
   "execution_count": 30,
   "metadata": {},
   "outputs": [],
   "source": [
    "y = heter_data['log_accidents']"
   ]
  },
  {
   "cell_type": "code",
   "execution_count": 31,
   "metadata": {
    "scrolled": true
   },
   "outputs": [
    {
     "data": {
      "text/html": [
       "<table class=\"simpletable\">\n",
       "<caption>OLS Regression Results</caption>\n",
       "<tr>\n",
       "  <th>Dep. Variable:</th>      <td>log_accidents</td>  <th>  R-squared:         </th> <td>   0.849</td>\n",
       "</tr>\n",
       "<tr>\n",
       "  <th>Model:</th>                   <td>OLS</td>       <th>  Adj. R-squared:    </th> <td>   0.848</td>\n",
       "</tr>\n",
       "<tr>\n",
       "  <th>Method:</th>             <td>Least Squares</td>  <th>  F-statistic:       </th> <td>   591.9</td>\n",
       "</tr>\n",
       "<tr>\n",
       "  <th>Date:</th>             <td>Thu, 14 Feb 2019</td> <th>  Prob (F-statistic):</th> <td>5.90e-45</td>\n",
       "</tr>\n",
       "<tr>\n",
       "  <th>Time:</th>                 <td>16:50:06</td>     <th>  Log-Likelihood:    </th> <td> -12.665</td>\n",
       "</tr>\n",
       "<tr>\n",
       "  <th>No. Observations:</th>      <td>   107</td>      <th>  AIC:               </th> <td>   29.33</td>\n",
       "</tr>\n",
       "<tr>\n",
       "  <th>Df Residuals:</th>          <td>   105</td>      <th>  BIC:               </th> <td>   34.68</td>\n",
       "</tr>\n",
       "<tr>\n",
       "  <th>Df Model:</th>              <td>     1</td>      <th>                     </th>     <td> </td>   \n",
       "</tr>\n",
       "<tr>\n",
       "  <th>Covariance Type:</th>      <td>nonrobust</td>    <th>                     </th>     <td> </td>   \n",
       "</tr>\n",
       "</table>\n",
       "<table class=\"simpletable\">\n",
       "<tr>\n",
       "         <td></td>           <th>coef</th>     <th>std err</th>      <th>t</th>      <th>P>|t|</th>  <th>[0.025</th>    <th>0.975]</th>  \n",
       "</tr>\n",
       "<tr>\n",
       "  <th>const</th>          <td>   -7.9563</td> <td>    0.465</td> <td>  -17.121</td> <td> 0.000</td> <td>   -8.878</td> <td>   -7.035</td>\n",
       "</tr>\n",
       "<tr>\n",
       "  <th>log_population</th> <td>    0.8922</td> <td>    0.037</td> <td>   24.329</td> <td> 0.000</td> <td>    0.819</td> <td>    0.965</td>\n",
       "</tr>\n",
       "</table>\n",
       "<table class=\"simpletable\">\n",
       "<tr>\n",
       "  <th>Omnibus:</th>       <td>26.265</td> <th>  Durbin-Watson:     </th> <td>   1.844</td>\n",
       "</tr>\n",
       "<tr>\n",
       "  <th>Prob(Omnibus):</th> <td> 0.000</td> <th>  Jarque-Bera (JB):  </th> <td>  62.830</td>\n",
       "</tr>\n",
       "<tr>\n",
       "  <th>Skew:</th>          <td>-0.894</td> <th>  Prob(JB):          </th> <td>2.27e-14</td>\n",
       "</tr>\n",
       "<tr>\n",
       "  <th>Kurtosis:</th>      <td> 6.301</td> <th>  Cond. No.          </th> <td>    223.</td>\n",
       "</tr>\n",
       "</table><br/><br/>Warnings:<br/>[1] Standard Errors assume that the covariance matrix of the errors is correctly specified."
      ],
      "text/plain": [
       "<class 'statsmodels.iolib.summary.Summary'>\n",
       "\"\"\"\n",
       "                            OLS Regression Results                            \n",
       "==============================================================================\n",
       "Dep. Variable:          log_accidents   R-squared:                       0.849\n",
       "Model:                            OLS   Adj. R-squared:                  0.848\n",
       "Method:                 Least Squares   F-statistic:                     591.9\n",
       "Date:                Thu, 14 Feb 2019   Prob (F-statistic):           5.90e-45\n",
       "Time:                        16:50:06   Log-Likelihood:                -12.665\n",
       "No. Observations:                 107   AIC:                             29.33\n",
       "Df Residuals:                     105   BIC:                             34.68\n",
       "Df Model:                           1                                         \n",
       "Covariance Type:            nonrobust                                         \n",
       "==================================================================================\n",
       "                     coef    std err          t      P>|t|      [0.025      0.975]\n",
       "----------------------------------------------------------------------------------\n",
       "const             -7.9563      0.465    -17.121      0.000      -8.878      -7.035\n",
       "log_population     0.8922      0.037     24.329      0.000       0.819       0.965\n",
       "==============================================================================\n",
       "Omnibus:                       26.265   Durbin-Watson:                   1.844\n",
       "Prob(Omnibus):                  0.000   Jarque-Bera (JB):               62.830\n",
       "Skew:                          -0.894   Prob(JB):                     2.27e-14\n",
       "Kurtosis:                       6.301   Cond. No.                         223.\n",
       "==============================================================================\n",
       "\n",
       "Warnings:\n",
       "[1] Standard Errors assume that the covariance matrix of the errors is correctly specified.\n",
       "\"\"\""
      ]
     },
     "execution_count": 31,
     "metadata": {},
     "output_type": "execute_result"
    }
   ],
   "source": [
    "results = linear_reg(x1, y)\n",
    "results.summary()"
   ]
  },
  {
   "cell_type": "code",
   "execution_count": 32,
   "metadata": {
    "scrolled": true
   },
   "outputs": [
    {
     "data": {
      "image/png": "[encoded data removed]",
      "text/plain": [
       "<Figure size 432x288 with 1 Axes>"
      ]
     },
     "metadata": {
      "needs_background": "light"
     },
     "output_type": "display_data"
    }
   ],
   "source": [
    "plt.scatter(x1,y)\n",
    "\n",
    "y_hat = -7.9563 + 0.8922*x1\n",
    "fig9 = plt.plot(x1,y_hat, lw=2, c='orange', label = 'regression line')\n",
    "\n",
    "plt.xlabel('Log Population', fontsize = 20)\n",
    "plt.ylabel('Log Accidents', fontsize = 20)\n",
    "plt.show()"
   ]
  },
  {
   "cell_type": "code",
   "execution_count": 33,
   "metadata": {
    "scrolled": true
   },
   "outputs": [
    {
     "data": {
      "text/plain": [
       "<matplotlib.axes._subplots.AxesSubplot at 0x19216179518>"
      ]
     },
     "execution_count": 33,
     "metadata": {},
     "output_type": "execute_result"
    },
    {
     "data": {
      "image/png": "[encoded data removed]",
      "text/plain": [
       "<Figure size 432x288 with 1 Axes>"
      ]
     },
     "metadata": {
      "needs_background": "light"
     },
     "output_type": "display_data"
    }
   ],
   "source": [
    "sns.residplot(x1, y, lowess=True, color=\"g\")"
   ]
  },
  {
   "cell_type": "markdown",
   "metadata": {},
   "source": [
    "Amazing! As you already realized, the transformations did not extinguish heteroscedasticity but it drove us near homoscedasticity. This model is called **log-log model** and is given by\n",
    "\n",
    "$$\\log y = b_0 + b_1 \\log x$$\n",
    "\n",
    "The interpretation is: As $x$ increases by 1%, $y$ increases by $b_1$%.\n",
    "\n",
    "That's all for now. As I said, there are many ways to fix heteroscedasticity, here we saw one of the simplest but not much effective solution. I encourage you to study more on homoscedasticity."
   ]
  },
  {
   "cell_type": "markdown",
   "metadata": {},
   "source": [
    "### 4.4 No autocorrelation"
   ]
  },
  {
   "cell_type": "markdown",
   "metadata": {},
   "source": [
    "The penultimate assumption is the no autocorrelation assumption. This is one of the most problematic properties because it cannot be relaxed. Mathematically, the no autocorrelation property means that\n",
    "\n",
    "$$\\sigma_{\\epsilon_i \\epsilon_j} = 0 : \\forall i \\neq j$$\n",
    "\n",
    "In other words, errors are assumed to have no correlation. Cross-sectional data (data that were taken at one moment of time) is highly unlikely to present autocorrelation. On the other hand, it is very common in time series.\n",
    "\n",
    "Autocorrelation roughly means that the data presents a pattern. Linear regression does not consider that. For example, let's explore the dataset of daily minimum temperatures in Melbourne, Australia, from 1891 to 1991. You can download this dataset [here](https://datamarket.com/data/set/2324/daily-minimum-temperatures-in-melbourne-australia-1981-1990#!ds=2324&display=line). \n",
    "\n",
    "The example was adapted from this [article](https://machinelearningmastery.com/gentle-introduction-autocorrelation-partial-autocorrelation/) authored by [Jason Brownlee](https://machinelearningmastery.com/about/)."
   ]
  },
  {
   "cell_type": "code",
   "execution_count": 34,
   "metadata": {},
   "outputs": [],
   "source": [
    "path_name = r'C:\\Users\\alexa\\Documents\\Data Science Course - Bootcamp\\Regression Analysis\\datasets\\Autocorrelation.csv'\n",
    "auto_data = pd.read_csv(path_name)"
   ]
  },
  {
   "cell_type": "code",
   "execution_count": 35,
   "metadata": {},
   "outputs": [
    {
     "data": {
      "text/html": [
       "<div>\n",
       "<style scoped>\n",
       "    .dataframe tbody tr th:only-of-type {\n",
       "        vertical-align: middle;\n",
       "    }\n",
       "\n",
       "    .dataframe tbody tr th {\n",
       "        vertical-align: top;\n",
       "    }\n",
       "\n",
       "    .dataframe thead th {\n",
       "        text-align: right;\n",
       "    }\n",
       "</style>\n",
       "<table border=\"1\" class=\"dataframe\">\n",
       "  <thead>\n",
       "    <tr style=\"text-align: right;\">\n",
       "      <th></th>\n",
       "      <th>Date</th>\n",
       "      <th>Daily minimum temperatures in Melbourne</th>\n",
       "    </tr>\n",
       "  </thead>\n",
       "  <tbody>\n",
       "    <tr>\n",
       "      <th>3645</th>\n",
       "      <td>1990-12-27</td>\n",
       "      <td>14.0</td>\n",
       "    </tr>\n",
       "    <tr>\n",
       "      <th>3646</th>\n",
       "      <td>1990-12-28</td>\n",
       "      <td>13.6</td>\n",
       "    </tr>\n",
       "    <tr>\n",
       "      <th>3647</th>\n",
       "      <td>1990-12-29</td>\n",
       "      <td>13.5</td>\n",
       "    </tr>\n",
       "    <tr>\n",
       "      <th>3648</th>\n",
       "      <td>1990-12-30</td>\n",
       "      <td>15.7</td>\n",
       "    </tr>\n",
       "    <tr>\n",
       "      <th>3649</th>\n",
       "      <td>1990-12-31</td>\n",
       "      <td>13.0</td>\n",
       "    </tr>\n",
       "  </tbody>\n",
       "</table>\n",
       "</div>"
      ],
      "text/plain": [
       "            Date  Daily minimum temperatures in Melbourne\n",
       "3645  1990-12-27                                     14.0\n",
       "3646  1990-12-28                                     13.6\n",
       "3647  1990-12-29                                     13.5\n",
       "3648  1990-12-30                                     15.7\n",
       "3649  1990-12-31                                     13.0"
      ]
     },
     "execution_count": 35,
     "metadata": {},
     "output_type": "execute_result"
    }
   ],
   "source": [
    "auto_data.tail()"
   ]
  },
  {
   "cell_type": "code",
   "execution_count": 36,
   "metadata": {},
   "outputs": [
    {
     "name": "stdout",
     "output_type": "stream",
     "text": [
      "<class 'pandas.core.frame.DataFrame'>\n",
      "RangeIndex: 3650 entries, 0 to 3649\n",
      "Data columns (total 2 columns):\n",
      "Date                                       3650 non-null object\n",
      "Daily minimum temperatures in Melbourne    3650 non-null float64\n",
      "dtypes: float64(1), object(1)\n",
      "memory usage: 57.1+ KB\n"
     ]
    }
   ],
   "source": [
    "auto_data.info()"
   ]
  },
  {
   "cell_type": "markdown",
   "metadata": {},
   "source": [
    "Note that this dataset, differently from the other ones, needs some manipulation before we can actually analyze the data. First of all, the data type for the Date column is object. As we are working with time series, we must adequate this column to a more appropriate data type. That's why we will change its type to datetime. Secondly, we can improve the data analyzes by setting the Date column as the index column. By doing so, we gain efficiency and several tools to manipulate our time series."
   ]
  },
  {
   "cell_type": "code",
   "execution_count": 37,
   "metadata": {},
   "outputs": [],
   "source": [
    "auto_data['Date'] = pd.to_datetime(auto_data['Date'])"
   ]
  },
  {
   "cell_type": "code",
   "execution_count": 38,
   "metadata": {},
   "outputs": [
    {
     "name": "stdout",
     "output_type": "stream",
     "text": [
      "<class 'pandas.core.frame.DataFrame'>\n",
      "RangeIndex: 3650 entries, 0 to 3649\n",
      "Data columns (total 2 columns):\n",
      "Date                                       3650 non-null datetime64[ns]\n",
      "Daily minimum temperatures in Melbourne    3650 non-null float64\n",
      "dtypes: datetime64[ns](1), float64(1)\n",
      "memory usage: 57.1 KB\n"
     ]
    }
   ],
   "source": [
    "auto_data.info()"
   ]
  },
  {
   "cell_type": "code",
   "execution_count": 39,
   "metadata": {},
   "outputs": [],
   "source": [
    "auto_data.set_index('Date', inplace=True)"
   ]
  },
  {
   "cell_type": "code",
   "execution_count": 40,
   "metadata": {},
   "outputs": [
    {
     "data": {
      "text/plain": [
       "<matplotlib.axes._subplots.AxesSubplot at 0x19217df30b8>"
      ]
     },
     "execution_count": 40,
     "metadata": {},
     "output_type": "execute_result"
    },
    {
     "data": {
      "image/png": "[encoded data removed]",
      "text/plain": [
       "<Figure size 432x288 with 1 Axes>"
      ]
     },
     "metadata": {
      "needs_background": "light"
     },
     "output_type": "display_data"
    }
   ],
   "source": [
    "auto_data.plot()"
   ]
  },
  {
   "cell_type": "markdown",
   "metadata": {},
   "source": [
    "Note how the data present a pattern. Linear regression assumes that the errors are randomly spread around the regression line. That certainly will not be the case."
   ]
  },
  {
   "cell_type": "markdown",
   "metadata": {},
   "source": [
    "#### How to detect autocorrelation?"
   ]
  },
  {
   "cell_type": "markdown",
   "metadata": {},
   "source": [
    "A common way is to plot all the residuals on a graph and **look for patterns**. If you can't find any, then you are safe. \n",
    "\n",
    "Also, you can check the value of the **Durbin-Watson test** at the _Additional tests table_ provided by stats models. Generally, its values fall between 0 and 4. 2 indicates no autocorrelation while values below 1 and above 3 are a cause for alarm.\n",
    "\n",
    "There is no remedy for autocorrelation, the only thing you can do is to avoid the linear regression model. Alternative models are\n",
    "\n",
    "    1. Autoregressive model\n",
    "    2. Moving average model\n",
    "    3. Autoregressive moving average model\n",
    "    4. Autoregressive integrated moving average model"
   ]
  },
  {
   "cell_type": "markdown",
   "metadata": {},
   "source": [
    "For a further reading on autocorrelation, see this "
   ]
  },
  {
   "cell_type": "markdown",
   "metadata": {},
   "source": [
    "### 4.5 No Multicollinearity"
   ]
  },
  {
   "cell_type": "markdown",
   "metadata": {},
   "source": [
    "The last assumption is no multicollinearity. In [Multicollinearity in Regression Analysis: Problems, Detection, and Solutions](http://statisticsbyjim.com/regression/multicollinearity-in-regression-analysis/) is stated that \n",
    "    \n",
    "    The interpretation of a regression coefficient is that it represents the mean change in the dependent variable for each 1 unit change in an independent variable when you hold all of the other independent variables constant.\n",
    "    \n",
    "This statement is telling us that whenever we change one variable, the others must not be affected. Multicollinearity is just the opposite. If two variables are correlated, changing one implies in also changing the other.\n",
    "\n",
    "We observe multicollinearity when two or more variables have a **strong** correlation. Mathematically,\n",
    "\n",
    "$$\\rho_{x_i x_j} \\approx 1 : \\forall i, j ; i \\neq j$$\n",
    "\n",
    "Let's exemplify this point with an equation.\n",
    "\n",
    "$$y = 3 + 2x$$\n",
    "\n",
    "$y$ and $x$ are two variables with an exact linear relationship. $y$ can be represented using $x$ and vice-versa. In a model containing $y$ and $x$ we would have perfect multicollinearity ($\\rho_{y x} = 1$). This imposes a big problem to our model as the coefficients will be wrongly estimated. In addition, let's agree that if $y$ can be represented using $x$, there is no point using both!\n",
    "\n",
    "This time, consider two variables $z$ and $t$ with a correlation of $\\rho_{z t} = 0.93$. If we had a regression model using $z$ and $t$ we would also have multicollinearity although not perfect. In this case, the assumption is still violated and thus implies that we may face a problem in our model."
   ]
  },
  {
   "cell_type": "markdown",
   "metadata": {},
   "source": [
    "#### What problems multicollinearity can cause?"
   ]
  },
  {
   "cell_type": "markdown",
   "metadata": {},
   "source": [
    "Multicollinearity can cause two main problems:\n",
    "\n",
    "    1. The variables can vary wildly depending on which variables are in the model. \n",
    "    2. Precision reduction of the estimated coefficients. This weakens the statistical power and representativeness of the model. In addition, the p-values might not be trusted in order to identify which variables are statistically significant.\n",
    "    \n",
    "Finally, I would like to highlight that **some multicollinearity is not a problem**. If we try to predict the weight of a person and take his/her height and abdominal circumference as independent variables, of course, there will be some correlation degree between these variables. However, this is not problematic!"
   ]
  },
  {
   "cell_type": "markdown",
   "metadata": {},
   "source": [
    "## 5. Final considerations"
   ]
  },
  {
   "cell_type": "markdown",
   "metadata": {},
   "source": [
    "Regression analysis describes the relationship between a set of independent variables and one dependent variable. As you may have realized by now, this is an extremely powerful tool. Once the regression model is done we can use it to make predictions and thus make decisions about the problem we are dealing with. \n",
    "\n",
    "Although regression models may be easy to implement, they require a set of skills in order to evaluate their results. In this kernel, we studied superficially many aspects that must be considered when making a regression. In addition, we learned how to evaluate regression models and which are the main differences between a Simple Linear Regression and a Multiple Linear regression.\n",
    "\n",
    "There are several ways to code a regression model. Here we used the python stats models library as it is very helpful to assess the regression performance and tests results. \n",
    "\n",
    "I encourage you to look for other ways to implement your own regressions. There is plenty of good regression material out there!\n",
    "\n",
    "Thank you for your attention and I wish you all the success in your next regressions!"
   ]
  }
 ],
 "metadata": {
  "kernelspec": {
   "display_name": "Python 3",
   "language": "python",
   "name": "python3"
  },
  "language_info": {
   "codemirror_mode": {
    "name": "ipython",
    "version": 3
   },
   "file_extension": ".py",
   "mimetype": "text/x-python",
   "name": "python",
   "nbconvert_exporter": "python",
   "pygments_lexer": "ipython3",
   "version": "3.6.8"
  }
 },
 "nbformat": 4,
 "nbformat_minor": 2
}
